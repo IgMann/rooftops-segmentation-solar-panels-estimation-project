{
 "cells": [
  {
   "cell_type": "markdown",
   "metadata": {},
   "source": [
    "# Rooftops Segmentation for Solar Panels Estimation Project"
   ]
  },
  {
   "cell_type": "markdown",
   "metadata": {},
   "source": [
    "## Importing libraries"
   ]
  },
  {
   "cell_type": "code",
   "execution_count": 1,
   "metadata": {},
   "outputs": [],
   "source": [
    "import os\n",
    "import io\n",
    "import shutil\n",
    "import math\n",
    "import time\n",
    "from tqdm import tqdm\n",
    "\n",
    "from functions import *\n",
    "\n",
    "import numpy as np\n",
    "import pandas as pd\n",
    "import matplotlib.pyplot as plt\n",
    "\n",
    "import torch\n",
    "import torch.nn as nn\n",
    "import torch.optim as optim\n",
    "from torch.utils.data import Dataset, DataLoader\n",
    "from torch.utils.tensorboard import SummaryWriter\n",
    "from torchvision import transforms\n",
    "\n",
    "import cv2\n",
    "from PIL import Image\n",
    "\n",
    "from pyspark.sql import SparkSession\n",
    "from pyspark.sql.functions import udf, concat, lit, array\n",
    "from pyspark.sql.types import StringType, StructType, StructField, DoubleType, ArrayType, BinaryType\n",
    "\n",
    "from pyspark.ml.evaluation import BinaryClassificationEvaluator"
   ]
  },
  {
   "cell_type": "markdown",
   "metadata": {},
   "source": [
    "## Parameters"
   ]
  },
  {
   "cell_type": "code",
   "execution_count": 2,
   "metadata": {},
   "outputs": [],
   "source": [
    "# Paths\n",
    "PROJECT_PATH = \"/home/igor/MEGAsync/Faks/Geoprostorni sistemi/Projekat\"\n",
    "DATASET_PATH = \"/home/igor/Projects/Geoinformatika/Data/Dataset\"\n",
    "RGB_DIR = f\"{DATASET_PATH}/RGB images\"\n",
    "DEM_DIR = f\"{DATASET_PATH}/DEM images\"\n",
    "DSM_DIR = f\"{DATASET_PATH}/DSM images\"\n",
    "MASK_DIR = f\"{DATASET_PATH}/Masks\"\n",
    "LOG_DIR = f\"{PROJECT_PATH}/logs\"\n",
    "RESULT_IMAGES_DIR = f\"{PROJECT_PATH}/raw results\"\n",
    "POST_PROCESS_DIR = f\"{PROJECT_PATH}/post-processed results\"\n",
    "BEST_MODEL_PATH = \"best_model.pth\"\n",
    "RESULTS_DATAFRAME_PATH = \"results.csv\"\n",
    "\n",
    "# Train and evaluation parameters\n",
    "DEVICE = torch.device(\"cuda\" if torch.cuda.is_available() else \"cpu\")\n",
    "BATCH_SIZE = 8\n",
    "NUM_EPOCHS = 200\n",
    "LEARNING_RATE = 0.001\n",
    "IMAGE_SIZE = 250\n",
    "TEST_SIZE = 0.2\n",
    "RANDOM_STATE = 42\n",
    "SQUARE_PIXEL_AREA = 0.25\n",
    "SOLAR_PANEL_AREA = 1.62 \n",
    "\n",
    "# Other\n",
    "LINE = 100 * '-'\n",
    "DOUBLE_LINE = 100 * '='"
   ]
  },
  {
   "cell_type": "markdown",
   "metadata": {},
   "source": [
    "## Dataset preparation"
   ]
  },
  {
   "cell_type": "markdown",
   "metadata": {},
   "source": [
    "### Spark session initialization"
   ]
  },
  {
   "cell_type": "code",
   "execution_count": 3,
   "metadata": {},
   "outputs": [
    {
     "name": "stderr",
     "output_type": "stream",
     "text": [
      "24/07/11 13:54:30 WARN Utils: Your hostname, igor-desktop resolves to a loopback address: 127.0.1.1; using 192.168.1.2 instead (on interface enp2s0)\n",
      "24/07/11 13:54:30 WARN Utils: Set SPARK_LOCAL_IP if you need to bind to another address\n",
      "Setting default log level to \"WARN\".\n",
      "To adjust logging level use sc.setLogLevel(newLevel). For SparkR, use setLogLevel(newLevel).\n",
      "24/07/11 13:54:30 WARN NativeCodeLoader: Unable to load native-hadoop library for your platform... using builtin-java classes where applicable\n"
     ]
    }
   ],
   "source": [
    "# Stop any existing Spark session\n",
    "SparkSession.builder.getOrCreate().stop()\n",
    "\n",
    "# Create a new Spark session\n",
    "spark_preprocessing = SparkSession.builder.appName(\"images_preprocessing\").getOrCreate()"
   ]
  },
  {
   "cell_type": "markdown",
   "metadata": {},
   "source": [
    "### Dataset class initialization"
   ]
  },
  {
   "cell_type": "code",
   "execution_count": 4,
   "metadata": {},
   "outputs": [],
   "source": [
    "class SatelliteDataset(Dataset):\n",
    "    def __init__(self, dataframe, transform=None):\n",
    "        self.dataframe = dataframe\n",
    "        self.transform = transform\n",
    "        self.data = self.dataframe.to_dict(\"records\") \n",
    "\n",
    "    def __len__(self):\n",
    "        return len(self.data)\n",
    "\n",
    "    def __getitem__(self, idx):\n",
    "        row = self.data[idx]\n",
    "        \n",
    "        rgb_image = Image.open(io.BytesIO(row[\"rgb_image\"])).convert(\"RGB\")\n",
    "        dem_image = Image.open(io.BytesIO(row[\"dem_image\"])).convert(\"L\")\n",
    "        dsm_image = Image.open(io.BytesIO(row[\"dsm_image\"])).convert(\"L\")\n",
    "        mask = Image.open(io.BytesIO(row[\"mask\"])).convert(\"L\")\n",
    "\n",
    "        if self.transform:\n",
    "            rgb_image = self.transform(rgb_image)\n",
    "            dem_image = self.transform(dem_image)\n",
    "            dsm_image = self.transform(dsm_image)\n",
    "            mask = self.transform(mask)\n",
    "\n",
    "        combined_image = torch.cat((rgb_image, dem_image, dsm_image), dim=0)\n",
    "        \n",
    "        return combined_image, mask, row[\"image_name\"]\n",
    "\n",
    "transform = transforms.Compose([\n",
    "    transforms.Resize((IMAGE_SIZE, IMAGE_SIZE)),\n",
    "    transforms.ToTensor()\n",
    "])"
   ]
  },
  {
   "cell_type": "markdown",
   "metadata": {},
   "source": [
    "### Data structuring and splitting"
   ]
  },
  {
   "cell_type": "code",
   "execution_count": 5,
   "metadata": {},
   "outputs": [
    {
     "name": "stderr",
     "output_type": "stream",
     "text": [
      "                                                                                \r"
     ]
    }
   ],
   "source": [
    "# Define schema for our data\n",
    "schema = StructType([\n",
    "    StructField(\"image_name\", StringType(), True),\n",
    "    StructField(\"rgb_image\", BinaryType(), True),\n",
    "    StructField(\"dem_image\", BinaryType(), True),\n",
    "    StructField(\"dsm_image\", BinaryType(), True),\n",
    "    StructField(\"mask\", BinaryType(), True)\n",
    "])\n",
    "\n",
    "read_image_file_udf = udf(read_image_file, BinaryType())\n",
    "\n",
    "# Create a DataFrame with image data\n",
    "df = spark_preprocessing.createDataFrame([(name,) for name in os.listdir(RGB_DIR)], [\"image_name\"])\n",
    "\n",
    "# Add full file paths\n",
    "df = df.withColumn(\"rgb_path\", concat(lit(RGB_DIR + \"/\"), df.image_name))\n",
    "df = df.withColumn(\"dem_path\", concat(lit(DEM_DIR + \"/\"), df.image_name))\n",
    "df = df.withColumn(\"dsm_path\", concat(lit(DSM_DIR + \"/\"), df.image_name))\n",
    "df = df.withColumn(\"mask_path\", concat(lit(MASK_DIR + \"/\"), df.image_name))\n",
    "\n",
    "# Read image data\n",
    "df = df.withColumn(\"rgb_image\", read_image_file_udf(df.rgb_path))\n",
    "df = df.withColumn(\"dem_image\", read_image_file_udf(df.dem_path))\n",
    "df = df.withColumn(\"dsm_image\", read_image_file_udf(df.dsm_path))\n",
    "df = df.withColumn(\"mask\", read_image_file_udf(df.mask_path))\n",
    "\n",
    "# Drop the path columns as they're no longer needed\n",
    "df = df.drop(\"rgb_path\", \"dem_path\", \"dsm_path\", \"mask_path\")\n",
    "\n",
    "# Filter out rows where any of the images couldn't be read\n",
    "df = df.filter(\n",
    "    (df.rgb_image.isNotNull()) & \n",
    "    (df.dem_image.isNotNull()) & \n",
    "    (df.dsm_image.isNotNull()) & \n",
    "    (df.mask.isNotNull())\n",
    ")\n",
    "\n",
    "# Split the data into training and validation sets\n",
    "train_df, val_df = df.randomSplit([1 - TEST_SIZE, TEST_SIZE], seed=RANDOM_STATE)\n",
    "\n",
    "# Convert Spark DataFrames to Pandas DataFrames\n",
    "train_df = train_df.toPandas()\n",
    "val_df = val_df.toPandas()\n",
    "\n",
    "# Stop the Spark session\n",
    "spark_preprocessing.stop()"
   ]
  },
  {
   "cell_type": "markdown",
   "metadata": {},
   "source": [
    "### Datasets and Dataloaders creation"
   ]
  },
  {
   "cell_type": "code",
   "execution_count": 6,
   "metadata": {},
   "outputs": [],
   "source": [
    "train_dataset = SatelliteDataset(train_df, transform=transform)\n",
    "val_dataset = SatelliteDataset(val_df, transform=transform)\n",
    "\n",
    "train_loader = DataLoader(train_dataset, batch_size=BATCH_SIZE, shuffle=True)\n",
    "val_loader = DataLoader(val_dataset, batch_size=BATCH_SIZE, shuffle=False)"
   ]
  },
  {
   "cell_type": "markdown",
   "metadata": {},
   "source": [
    "## Model architecture definition"
   ]
  },
  {
   "cell_type": "code",
   "execution_count": 7,
   "metadata": {},
   "outputs": [],
   "source": [
    "class ConvAutoencoder(nn.Module):\n",
    "    def __init__(self):\n",
    "        super(ConvAutoencoder, self).__init__()\n",
    "        self.encoder = nn.Sequential(\n",
    "            nn.Conv2d(5, 64, kernel_size=3, padding=1),\n",
    "            nn.ReLU(inplace=True),\n",
    "            nn.MaxPool2d(kernel_size=2, stride=2),\n",
    "            nn.Conv2d(64, 128, kernel_size=3, padding=1),\n",
    "            nn.ReLU(inplace=True),\n",
    "            nn.MaxPool2d(kernel_size=2, stride=2),\n",
    "            nn.Conv2d(128, 256, kernel_size=3, padding=1),\n",
    "            nn.ReLU(inplace=True),\n",
    "            nn.MaxPool2d(kernel_size=2, stride=2),\n",
    "            nn.Conv2d(256, 512, kernel_size=3, padding=1),\n",
    "            nn.ReLU(inplace=True)\n",
    "        )\n",
    "        self.decoder = nn.Sequential(\n",
    "            nn.ConvTranspose2d(512, 256, kernel_size=2, stride=2),\n",
    "            nn.ReLU(inplace=True),\n",
    "            nn.ConvTranspose2d(256, 128, kernel_size=2, stride=2),\n",
    "            nn.ReLU(inplace=True),\n",
    "            nn.ConvTranspose2d(128, 64, kernel_size=2, stride=2),\n",
    "            nn.ReLU(inplace=True),\n",
    "            nn.ConvTranspose2d(64, 32, kernel_size=2, stride=2),\n",
    "            nn.ReLU(inplace=True),\n",
    "            nn.Conv2d(32, 16, kernel_size=3, padding=1),\n",
    "            nn.ReLU(inplace=True),\n",
    "            nn.Conv2d(16, 1, kernel_size=3, padding=1),\n",
    "            nn.Sigmoid()\n",
    "        )\n",
    "\n",
    "    def forward(self, x):\n",
    "        x = self.encoder(x)\n",
    "        x = self.decoder(x)\n",
    "        x = nn.functional.interpolate(x, size=(IMAGE_SIZE, IMAGE_SIZE), mode='bilinear', align_corners=False)\n",
    "        return x"
   ]
  },
  {
   "cell_type": "markdown",
   "metadata": {},
   "source": [
    "## Evaluation"
   ]
  },
  {
   "cell_type": "markdown",
   "metadata": {},
   "source": [
    "### Model initialization"
   ]
  },
  {
   "cell_type": "code",
   "execution_count": 8,
   "metadata": {},
   "outputs": [],
   "source": [
    "model = ConvAutoencoder().to(DEVICE)\n",
    "criterion = nn.BCELoss()\n",
    "optimizer = optim.Adam(model.parameters(), lr=LEARNING_RATE)"
   ]
  },
  {
   "cell_type": "markdown",
   "metadata": {},
   "source": [
    "### Result and log directories existence checking and cleaning"
   ]
  },
  {
   "cell_type": "code",
   "execution_count": 9,
   "metadata": {},
   "outputs": [],
   "source": [
    "for directory in [LOG_DIR, RESULT_IMAGES_DIR, POST_PROCESS_DIR]:\n",
    "    if os.path.exists(directory):\n",
    "        shutil.rmtree(directory)\n",
    "    os.makedirs(directory)"
   ]
  },
  {
   "cell_type": "markdown",
   "metadata": {},
   "source": [
    "### Training and validation"
   ]
  },
  {
   "cell_type": "code",
   "execution_count": 10,
   "metadata": {},
   "outputs": [
    {
     "name": "stdout",
     "output_type": "stream",
     "text": [
      "====================================================================================================\n",
      "TRAINING AND VALIDATION PROCESS STARTED\n",
      "====================================================================================================\n"
     ]
    },
    {
     "name": "stderr",
     "output_type": "stream",
     "text": [
      "/home/igor/miniconda3/envs/geoinformatics/lib/python3.8/site-packages/torch/nn/modules/conv.py:456: UserWarning: Applied workaround for CuDNN issue, install nvrtc.so (Triggered internally at ../aten/src/ATen/native/cudnn/Conv_v8.cpp:84.)\n",
      "  return F.conv2d(input, weight, bias, self.stride,\n",
      "24/07/11 13:55:32 WARN TaskSetManager: Stage 0 contains a task of very large size (15067 KiB). The maximum recommended task size is 1000 KiB.\n",
      "                                                                                \r"
     ]
    },
    {
     "name": "stdout",
     "output_type": "stream",
     "text": [
      "----------------------------------------------------------------------------------------------------\n",
      "Epoch 1/200, Loss: 0.2973, AUC-ROC: 0.5000, Time: 0:44\n"
     ]
    },
    {
     "name": "stderr",
     "output_type": "stream",
     "text": [
      "24/07/11 13:56:13 WARN TaskSetManager: Stage 0 contains a task of very large size (15067 KiB). The maximum recommended task size is 1000 KiB.\n",
      "                                                                                \r"
     ]
    },
    {
     "name": "stdout",
     "output_type": "stream",
     "text": [
      "----------------------------------------------------------------------------------------------------\n",
      "Epoch 2/200, Loss: 0.2421, AUC-ROC: 0.5000, Time: 0:40\n"
     ]
    },
    {
     "name": "stderr",
     "output_type": "stream",
     "text": [
      "24/07/11 13:56:53 WARN TaskSetManager: Stage 0 contains a task of very large size (15067 KiB). The maximum recommended task size is 1000 KiB.\n",
      "                                                                                \r"
     ]
    },
    {
     "name": "stdout",
     "output_type": "stream",
     "text": [
      "----------------------------------------------------------------------------------------------------\n",
      "Epoch 3/200, Loss: 0.2051, AUC-ROC: 0.5000, Time: 0:41\n"
     ]
    },
    {
     "name": "stderr",
     "output_type": "stream",
     "text": [
      "24/07/11 13:57:34 WARN TaskSetManager: Stage 0 contains a task of very large size (15067 KiB). The maximum recommended task size is 1000 KiB.\n",
      "                                                                                \r"
     ]
    },
    {
     "name": "stdout",
     "output_type": "stream",
     "text": [
      "----------------------------------------------------------------------------------------------------\n",
      "Epoch 4/200, Loss: 0.1586, AUC-ROC: 0.7385, Time: 0:39\n"
     ]
    },
    {
     "name": "stderr",
     "output_type": "stream",
     "text": [
      "24/07/11 13:58:15 WARN TaskSetManager: Stage 0 contains a task of very large size (15067 KiB). The maximum recommended task size is 1000 KiB.\n",
      "                                                                                \r"
     ]
    },
    {
     "name": "stdout",
     "output_type": "stream",
     "text": [
      "----------------------------------------------------------------------------------------------------\n",
      "Epoch 5/200, Loss: 0.1518, AUC-ROC: 0.6667, Time: 0:42\n"
     ]
    },
    {
     "name": "stderr",
     "output_type": "stream",
     "text": [
      "24/07/11 13:58:57 WARN TaskSetManager: Stage 0 contains a task of very large size (15067 KiB). The maximum recommended task size is 1000 KiB.\n",
      "                                                                                \r"
     ]
    },
    {
     "name": "stdout",
     "output_type": "stream",
     "text": [
      "----------------------------------------------------------------------------------------------------\n",
      "Epoch 6/200, Loss: 0.1517, AUC-ROC: 0.8119, Time: 0:40\n"
     ]
    },
    {
     "name": "stderr",
     "output_type": "stream",
     "text": [
      "24/07/11 13:59:37 WARN TaskSetManager: Stage 0 contains a task of very large size (15067 KiB). The maximum recommended task size is 1000 KiB.\n",
      "                                                                                \r"
     ]
    },
    {
     "name": "stdout",
     "output_type": "stream",
     "text": [
      "----------------------------------------------------------------------------------------------------\n",
      "Epoch 7/200, Loss: 0.1227, AUC-ROC: 0.7674, Time: 0:39\n"
     ]
    },
    {
     "name": "stderr",
     "output_type": "stream",
     "text": [
      "24/07/11 14:00:17 WARN TaskSetManager: Stage 0 contains a task of very large size (15067 KiB). The maximum recommended task size is 1000 KiB.\n",
      "                                                                                \r"
     ]
    },
    {
     "name": "stdout",
     "output_type": "stream",
     "text": [
      "----------------------------------------------------------------------------------------------------\n",
      "Epoch 8/200, Loss: 0.1065, AUC-ROC: 0.8540, Time: 0:41\n"
     ]
    },
    {
     "name": "stderr",
     "output_type": "stream",
     "text": [
      "24/07/11 14:01:00 WARN TaskSetManager: Stage 0 contains a task of very large size (15067 KiB). The maximum recommended task size is 1000 KiB.\n",
      "                                                                                \r"
     ]
    },
    {
     "name": "stdout",
     "output_type": "stream",
     "text": [
      "----------------------------------------------------------------------------------------------------\n",
      "Epoch 9/200, Loss: 0.1714, AUC-ROC: 0.7441, Time: 0:43\n"
     ]
    },
    {
     "name": "stderr",
     "output_type": "stream",
     "text": [
      "24/07/11 14:01:48 WARN TaskSetManager: Stage 0 contains a task of very large size (15067 KiB). The maximum recommended task size is 1000 KiB.\n",
      "                                                                                \r"
     ]
    },
    {
     "name": "stdout",
     "output_type": "stream",
     "text": [
      "----------------------------------------------------------------------------------------------------\n",
      "Epoch 10/200, Loss: 0.1229, AUC-ROC: 0.7743, Time: 0:51\n"
     ]
    },
    {
     "name": "stderr",
     "output_type": "stream",
     "text": [
      "24/07/11 14:02:37 WARN TaskSetManager: Stage 0 contains a task of very large size (15067 KiB). The maximum recommended task size is 1000 KiB.\n",
      "                                                                                \r"
     ]
    },
    {
     "name": "stdout",
     "output_type": "stream",
     "text": [
      "----------------------------------------------------------------------------------------------------\n",
      "Epoch 11/200, Loss: 0.1138, AUC-ROC: 0.8090, Time: 0:45\n"
     ]
    },
    {
     "name": "stderr",
     "output_type": "stream",
     "text": [
      "24/07/11 14:03:24 WARN TaskSetManager: Stage 0 contains a task of very large size (15067 KiB). The maximum recommended task size is 1000 KiB.\n",
      "                                                                                \r"
     ]
    },
    {
     "name": "stdout",
     "output_type": "stream",
     "text": [
      "----------------------------------------------------------------------------------------------------\n",
      "Epoch 12/200, Loss: 0.0986, AUC-ROC: 0.8290, Time: 0:48\n"
     ]
    },
    {
     "name": "stderr",
     "output_type": "stream",
     "text": [
      "24/07/11 14:04:11 WARN TaskSetManager: Stage 0 contains a task of very large size (15067 KiB). The maximum recommended task size is 1000 KiB.\n",
      "                                                                                \r"
     ]
    },
    {
     "name": "stdout",
     "output_type": "stream",
     "text": [
      "----------------------------------------------------------------------------------------------------\n",
      "Epoch 13/200, Loss: 0.1132, AUC-ROC: 0.6262, Time: 0:45\n"
     ]
    },
    {
     "name": "stderr",
     "output_type": "stream",
     "text": [
      "24/07/11 14:04:57 WARN TaskSetManager: Stage 0 contains a task of very large size (15067 KiB). The maximum recommended task size is 1000 KiB.\n",
      "                                                                                \r"
     ]
    },
    {
     "name": "stdout",
     "output_type": "stream",
     "text": [
      "----------------------------------------------------------------------------------------------------\n",
      "Epoch 14/200, Loss: 0.1147, AUC-ROC: 0.7089, Time: 0:45\n"
     ]
    },
    {
     "name": "stderr",
     "output_type": "stream",
     "text": [
      "24/07/11 14:05:42 WARN TaskSetManager: Stage 0 contains a task of very large size (15067 KiB). The maximum recommended task size is 1000 KiB.\n",
      "                                                                                \r"
     ]
    },
    {
     "name": "stdout",
     "output_type": "stream",
     "text": [
      "----------------------------------------------------------------------------------------------------\n",
      "Epoch 15/200, Loss: 0.1062, AUC-ROC: 0.8269, Time: 0:45\n"
     ]
    },
    {
     "name": "stderr",
     "output_type": "stream",
     "text": [
      "24/07/11 14:06:29 WARN TaskSetManager: Stage 0 contains a task of very large size (15067 KiB). The maximum recommended task size is 1000 KiB.\n",
      "                                                                                \r"
     ]
    },
    {
     "name": "stdout",
     "output_type": "stream",
     "text": [
      "----------------------------------------------------------------------------------------------------\n",
      "Epoch 16/200, Loss: 0.0882, AUC-ROC: 0.7866, Time: 0:48\n"
     ]
    },
    {
     "name": "stderr",
     "output_type": "stream",
     "text": [
      "24/07/11 14:07:14 WARN TaskSetManager: Stage 0 contains a task of very large size (15067 KiB). The maximum recommended task size is 1000 KiB.\n",
      "                                                                                \r"
     ]
    },
    {
     "name": "stdout",
     "output_type": "stream",
     "text": [
      "----------------------------------------------------------------------------------------------------\n",
      "Epoch 17/200, Loss: 0.0850, AUC-ROC: 0.7860, Time: 0:43\n"
     ]
    },
    {
     "name": "stderr",
     "output_type": "stream",
     "text": [
      "24/07/11 14:07:59 WARN TaskSetManager: Stage 0 contains a task of very large size (15067 KiB). The maximum recommended task size is 1000 KiB.\n",
      "                                                                                \r"
     ]
    },
    {
     "name": "stdout",
     "output_type": "stream",
     "text": [
      "----------------------------------------------------------------------------------------------------\n",
      "Epoch 18/200, Loss: 0.0865, AUC-ROC: 0.7754, Time: 0:46\n"
     ]
    },
    {
     "name": "stderr",
     "output_type": "stream",
     "text": [
      "24/07/11 14:08:46 WARN TaskSetManager: Stage 0 contains a task of very large size (15067 KiB). The maximum recommended task size is 1000 KiB.\n",
      "                                                                                \r"
     ]
    },
    {
     "name": "stdout",
     "output_type": "stream",
     "text": [
      "----------------------------------------------------------------------------------------------------\n",
      "Epoch 19/200, Loss: 0.0689, AUC-ROC: 0.8220, Time: 0:45\n"
     ]
    },
    {
     "name": "stderr",
     "output_type": "stream",
     "text": [
      "24/07/11 14:09:33 WARN TaskSetManager: Stage 0 contains a task of very large size (15067 KiB). The maximum recommended task size is 1000 KiB.\n",
      "                                                                                \r"
     ]
    },
    {
     "name": "stdout",
     "output_type": "stream",
     "text": [
      "----------------------------------------------------------------------------------------------------\n",
      "Epoch 20/200, Loss: 0.0791, AUC-ROC: 0.6045, Time: 0:48\n"
     ]
    },
    {
     "name": "stderr",
     "output_type": "stream",
     "text": [
      "24/07/11 14:10:26 WARN TaskSetManager: Stage 0 contains a task of very large size (15067 KiB). The maximum recommended task size is 1000 KiB.\n",
      "                                                                                \r"
     ]
    },
    {
     "name": "stdout",
     "output_type": "stream",
     "text": [
      "----------------------------------------------------------------------------------------------------\n",
      "Epoch 21/200, Loss: 0.0831, AUC-ROC: 0.8294, Time: 0:51\n"
     ]
    },
    {
     "name": "stderr",
     "output_type": "stream",
     "text": [
      "24/07/11 14:11:14 WARN TaskSetManager: Stage 0 contains a task of very large size (15067 KiB). The maximum recommended task size is 1000 KiB.\n",
      "                                                                                \r"
     ]
    },
    {
     "name": "stdout",
     "output_type": "stream",
     "text": [
      "----------------------------------------------------------------------------------------------------\n",
      "Epoch 22/200, Loss: 0.0695, AUC-ROC: 0.7651, Time: 0:49\n"
     ]
    },
    {
     "name": "stderr",
     "output_type": "stream",
     "text": [
      "24/07/11 14:12:00 WARN TaskSetManager: Stage 0 contains a task of very large size (15067 KiB). The maximum recommended task size is 1000 KiB.\n",
      "                                                                                \r"
     ]
    },
    {
     "name": "stdout",
     "output_type": "stream",
     "text": [
      "----------------------------------------------------------------------------------------------------\n",
      "Epoch 23/200, Loss: 0.0716, AUC-ROC: 0.8552, Time: 0:44\n"
     ]
    },
    {
     "name": "stderr",
     "output_type": "stream",
     "text": [
      "24/07/11 14:12:45 WARN TaskSetManager: Stage 0 contains a task of very large size (15067 KiB). The maximum recommended task size is 1000 KiB.\n",
      "                                                                                \r"
     ]
    },
    {
     "name": "stdout",
     "output_type": "stream",
     "text": [
      "----------------------------------------------------------------------------------------------------\n",
      "Epoch 24/200, Loss: 0.0660, AUC-ROC: 0.8664, Time: 0:44\n"
     ]
    },
    {
     "name": "stderr",
     "output_type": "stream",
     "text": [
      "24/07/11 14:13:28 WARN TaskSetManager: Stage 0 contains a task of very large size (15067 KiB). The maximum recommended task size is 1000 KiB.\n",
      "                                                                                \r"
     ]
    },
    {
     "name": "stdout",
     "output_type": "stream",
     "text": [
      "----------------------------------------------------------------------------------------------------\n",
      "Epoch 25/200, Loss: 0.0675, AUC-ROC: 0.8617, Time: 0:43\n"
     ]
    },
    {
     "name": "stderr",
     "output_type": "stream",
     "text": [
      "24/07/11 14:14:13 WARN TaskSetManager: Stage 0 contains a task of very large size (15067 KiB). The maximum recommended task size is 1000 KiB.\n",
      "                                                                                \r"
     ]
    },
    {
     "name": "stdout",
     "output_type": "stream",
     "text": [
      "----------------------------------------------------------------------------------------------------\n",
      "Epoch 26/200, Loss: 0.0629, AUC-ROC: 0.9223, Time: 0:43\n"
     ]
    },
    {
     "name": "stderr",
     "output_type": "stream",
     "text": [
      "24/07/11 14:14:56 WARN TaskSetManager: Stage 0 contains a task of very large size (15067 KiB). The maximum recommended task size is 1000 KiB.\n",
      "                                                                                \r"
     ]
    },
    {
     "name": "stdout",
     "output_type": "stream",
     "text": [
      "----------------------------------------------------------------------------------------------------\n",
      "Epoch 27/200, Loss: 0.0907, AUC-ROC: 0.9071, Time: 0:43\n"
     ]
    },
    {
     "name": "stderr",
     "output_type": "stream",
     "text": [
      "24/07/11 14:15:39 WARN TaskSetManager: Stage 0 contains a task of very large size (15067 KiB). The maximum recommended task size is 1000 KiB.\n",
      "                                                                                \r"
     ]
    },
    {
     "name": "stdout",
     "output_type": "stream",
     "text": [
      "----------------------------------------------------------------------------------------------------\n",
      "Epoch 28/200, Loss: 0.0780, AUC-ROC: 0.8756, Time: 0:43\n"
     ]
    },
    {
     "name": "stderr",
     "output_type": "stream",
     "text": [
      "24/07/11 14:16:22 WARN TaskSetManager: Stage 0 contains a task of very large size (15067 KiB). The maximum recommended task size is 1000 KiB.\n",
      "                                                                                \r"
     ]
    },
    {
     "name": "stdout",
     "output_type": "stream",
     "text": [
      "----------------------------------------------------------------------------------------------------\n",
      "Epoch 29/200, Loss: 0.0677, AUC-ROC: 0.8947, Time: 0:45\n"
     ]
    },
    {
     "name": "stderr",
     "output_type": "stream",
     "text": [
      "24/07/11 14:17:06 WARN TaskSetManager: Stage 0 contains a task of very large size (15067 KiB). The maximum recommended task size is 1000 KiB.\n",
      "                                                                                \r"
     ]
    },
    {
     "name": "stdout",
     "output_type": "stream",
     "text": [
      "----------------------------------------------------------------------------------------------------\n",
      "Epoch 30/200, Loss: 0.0538, AUC-ROC: 0.8760, Time: 0:41\n"
     ]
    },
    {
     "name": "stderr",
     "output_type": "stream",
     "text": [
      "24/07/11 14:17:49 WARN TaskSetManager: Stage 0 contains a task of very large size (15067 KiB). The maximum recommended task size is 1000 KiB.\n",
      "                                                                                \r"
     ]
    },
    {
     "name": "stdout",
     "output_type": "stream",
     "text": [
      "----------------------------------------------------------------------------------------------------\n",
      "Epoch 31/200, Loss: 0.0568, AUC-ROC: 0.8927, Time: 0:44\n"
     ]
    },
    {
     "name": "stderr",
     "output_type": "stream",
     "text": [
      "24/07/11 14:18:35 WARN TaskSetManager: Stage 0 contains a task of very large size (15067 KiB). The maximum recommended task size is 1000 KiB.\n",
      "                                                                                \r"
     ]
    },
    {
     "name": "stdout",
     "output_type": "stream",
     "text": [
      "----------------------------------------------------------------------------------------------------\n",
      "Epoch 32/200, Loss: 0.0567, AUC-ROC: 0.9279, Time: 0:44\n"
     ]
    },
    {
     "name": "stderr",
     "output_type": "stream",
     "text": [
      "24/07/11 14:19:18 WARN TaskSetManager: Stage 0 contains a task of very large size (15067 KiB). The maximum recommended task size is 1000 KiB.\n",
      "                                                                                \r"
     ]
    },
    {
     "name": "stdout",
     "output_type": "stream",
     "text": [
      "----------------------------------------------------------------------------------------------------\n",
      "Epoch 33/200, Loss: 0.0539, AUC-ROC: 0.7878, Time: 0:43\n"
     ]
    },
    {
     "name": "stderr",
     "output_type": "stream",
     "text": [
      "24/07/11 14:20:02 WARN TaskSetManager: Stage 0 contains a task of very large size (15067 KiB). The maximum recommended task size is 1000 KiB.\n",
      "                                                                                \r"
     ]
    },
    {
     "name": "stdout",
     "output_type": "stream",
     "text": [
      "----------------------------------------------------------------------------------------------------\n",
      "Epoch 34/200, Loss: 0.0751, AUC-ROC: 0.9113, Time: 0:43\n"
     ]
    },
    {
     "name": "stderr",
     "output_type": "stream",
     "text": [
      "24/07/11 14:20:46 WARN TaskSetManager: Stage 0 contains a task of very large size (15067 KiB). The maximum recommended task size is 1000 KiB.\n",
      "                                                                                \r"
     ]
    },
    {
     "name": "stdout",
     "output_type": "stream",
     "text": [
      "----------------------------------------------------------------------------------------------------\n",
      "Epoch 35/200, Loss: 0.0624, AUC-ROC: 0.9048, Time: 0:44\n"
     ]
    },
    {
     "name": "stderr",
     "output_type": "stream",
     "text": [
      "24/07/11 14:21:33 WARN TaskSetManager: Stage 0 contains a task of very large size (15067 KiB). The maximum recommended task size is 1000 KiB.\n",
      "                                                                                \r"
     ]
    },
    {
     "name": "stdout",
     "output_type": "stream",
     "text": [
      "----------------------------------------------------------------------------------------------------\n",
      "Epoch 36/200, Loss: 0.0579, AUC-ROC: 0.8719, Time: 0:48\n"
     ]
    },
    {
     "name": "stderr",
     "output_type": "stream",
     "text": [
      "24/07/11 14:22:20 WARN TaskSetManager: Stage 0 contains a task of very large size (15067 KiB). The maximum recommended task size is 1000 KiB.\n",
      "                                                                                \r"
     ]
    },
    {
     "name": "stdout",
     "output_type": "stream",
     "text": [
      "----------------------------------------------------------------------------------------------------\n",
      "Epoch 37/200, Loss: 0.0510, AUC-ROC: 0.9191, Time: 0:45\n"
     ]
    },
    {
     "name": "stderr",
     "output_type": "stream",
     "text": [
      "24/07/11 14:23:04 WARN TaskSetManager: Stage 0 contains a task of very large size (15067 KiB). The maximum recommended task size is 1000 KiB.\n",
      "                                                                                \r"
     ]
    },
    {
     "name": "stdout",
     "output_type": "stream",
     "text": [
      "----------------------------------------------------------------------------------------------------\n",
      "Epoch 38/200, Loss: 0.0497, AUC-ROC: 0.8785, Time: 0:46\n"
     ]
    },
    {
     "name": "stderr",
     "output_type": "stream",
     "text": [
      "24/07/11 14:23:50 WARN TaskSetManager: Stage 0 contains a task of very large size (15067 KiB). The maximum recommended task size is 1000 KiB.\n",
      "                                                                                \r"
     ]
    },
    {
     "name": "stdout",
     "output_type": "stream",
     "text": [
      "----------------------------------------------------------------------------------------------------\n",
      "Epoch 39/200, Loss: 0.0584, AUC-ROC: 0.9051, Time: 0:43\n"
     ]
    },
    {
     "name": "stderr",
     "output_type": "stream",
     "text": [
      "24/07/11 14:24:37 WARN TaskSetManager: Stage 0 contains a task of very large size (15067 KiB). The maximum recommended task size is 1000 KiB.\n",
      "                                                                                \r"
     ]
    },
    {
     "name": "stdout",
     "output_type": "stream",
     "text": [
      "----------------------------------------------------------------------------------------------------\n",
      "Epoch 40/200, Loss: 0.0510, AUC-ROC: 0.9244, Time: 0:47\n"
     ]
    },
    {
     "name": "stderr",
     "output_type": "stream",
     "text": [
      "24/07/11 14:25:24 WARN TaskSetManager: Stage 0 contains a task of very large size (15067 KiB). The maximum recommended task size is 1000 KiB.\n",
      "                                                                                \r"
     ]
    },
    {
     "name": "stdout",
     "output_type": "stream",
     "text": [
      "----------------------------------------------------------------------------------------------------\n",
      "Epoch 41/200, Loss: 0.0469, AUC-ROC: 0.9012, Time: 0:46\n"
     ]
    },
    {
     "name": "stderr",
     "output_type": "stream",
     "text": [
      "24/07/11 14:26:09 WARN TaskSetManager: Stage 0 contains a task of very large size (15067 KiB). The maximum recommended task size is 1000 KiB.\n",
      "                                                                                \r"
     ]
    },
    {
     "name": "stdout",
     "output_type": "stream",
     "text": [
      "----------------------------------------------------------------------------------------------------\n",
      "Epoch 42/200, Loss: 0.0480, AUC-ROC: 0.8066, Time: 0:45\n"
     ]
    },
    {
     "name": "stderr",
     "output_type": "stream",
     "text": [
      "24/07/11 14:26:56 WARN TaskSetManager: Stage 0 contains a task of very large size (15067 KiB). The maximum recommended task size is 1000 KiB.\n",
      "                                                                                \r"
     ]
    },
    {
     "name": "stdout",
     "output_type": "stream",
     "text": [
      "----------------------------------------------------------------------------------------------------\n",
      "Epoch 43/200, Loss: 0.0684, AUC-ROC: 0.8926, Time: 0:48\n"
     ]
    },
    {
     "name": "stderr",
     "output_type": "stream",
     "text": [
      "24/07/11 14:27:42 WARN TaskSetManager: Stage 0 contains a task of very large size (15067 KiB). The maximum recommended task size is 1000 KiB.\n",
      "                                                                                \r"
     ]
    },
    {
     "name": "stdout",
     "output_type": "stream",
     "text": [
      "----------------------------------------------------------------------------------------------------\n",
      "Epoch 44/200, Loss: 0.0615, AUC-ROC: 0.9171, Time: 0:43\n"
     ]
    },
    {
     "name": "stderr",
     "output_type": "stream",
     "text": [
      "24/07/11 14:28:29 WARN TaskSetManager: Stage 0 contains a task of very large size (15067 KiB). The maximum recommended task size is 1000 KiB.\n",
      "                                                                                \r"
     ]
    },
    {
     "name": "stdout",
     "output_type": "stream",
     "text": [
      "----------------------------------------------------------------------------------------------------\n",
      "Epoch 45/200, Loss: 0.0532, AUC-ROC: 0.9043, Time: 0:46\n"
     ]
    },
    {
     "name": "stderr",
     "output_type": "stream",
     "text": [
      "24/07/11 14:29:16 WARN TaskSetManager: Stage 0 contains a task of very large size (15067 KiB). The maximum recommended task size is 1000 KiB.\n",
      "                                                                                \r"
     ]
    },
    {
     "name": "stdout",
     "output_type": "stream",
     "text": [
      "----------------------------------------------------------------------------------------------------\n",
      "Epoch 46/200, Loss: 0.0475, AUC-ROC: 0.8771, Time: 0:49\n"
     ]
    },
    {
     "name": "stderr",
     "output_type": "stream",
     "text": [
      "24/07/11 14:30:03 WARN TaskSetManager: Stage 0 contains a task of very large size (15067 KiB). The maximum recommended task size is 1000 KiB.\n",
      "                                                                                \r"
     ]
    },
    {
     "name": "stdout",
     "output_type": "stream",
     "text": [
      "----------------------------------------------------------------------------------------------------\n",
      "Epoch 47/200, Loss: 0.0531, AUC-ROC: 0.8804, Time: 0:44\n"
     ]
    },
    {
     "name": "stderr",
     "output_type": "stream",
     "text": [
      "24/07/11 14:30:50 WARN TaskSetManager: Stage 0 contains a task of very large size (15067 KiB). The maximum recommended task size is 1000 KiB.\n",
      "                                                                                \r"
     ]
    },
    {
     "name": "stdout",
     "output_type": "stream",
     "text": [
      "----------------------------------------------------------------------------------------------------\n",
      "Epoch 48/200, Loss: 0.0450, AUC-ROC: 0.9268, Time: 0:47\n"
     ]
    },
    {
     "name": "stderr",
     "output_type": "stream",
     "text": [
      "24/07/11 14:31:37 WARN TaskSetManager: Stage 0 contains a task of very large size (15067 KiB). The maximum recommended task size is 1000 KiB.\n",
      "                                                                                \r"
     ]
    },
    {
     "name": "stdout",
     "output_type": "stream",
     "text": [
      "----------------------------------------------------------------------------------------------------\n",
      "Epoch 49/200, Loss: 0.0501, AUC-ROC: 0.8828, Time: 0:49\n"
     ]
    },
    {
     "name": "stderr",
     "output_type": "stream",
     "text": [
      "24/07/11 14:32:25 WARN TaskSetManager: Stage 0 contains a task of very large size (15067 KiB). The maximum recommended task size is 1000 KiB.\n",
      "                                                                                \r"
     ]
    },
    {
     "name": "stdout",
     "output_type": "stream",
     "text": [
      "----------------------------------------------------------------------------------------------------\n",
      "Epoch 50/200, Loss: 0.0566, AUC-ROC: 0.9117, Time: 0:45\n"
     ]
    },
    {
     "name": "stderr",
     "output_type": "stream",
     "text": [
      "24/07/11 14:33:11 WARN TaskSetManager: Stage 0 contains a task of very large size (15067 KiB). The maximum recommended task size is 1000 KiB.\n",
      "                                                                                \r"
     ]
    },
    {
     "name": "stdout",
     "output_type": "stream",
     "text": [
      "----------------------------------------------------------------------------------------------------\n",
      "Epoch 51/200, Loss: 0.0435, AUC-ROC: 0.9118, Time: 0:46\n"
     ]
    },
    {
     "name": "stderr",
     "output_type": "stream",
     "text": [
      "24/07/11 14:33:58 WARN TaskSetManager: Stage 0 contains a task of very large size (15067 KiB). The maximum recommended task size is 1000 KiB.\n",
      "                                                                                \r"
     ]
    },
    {
     "name": "stdout",
     "output_type": "stream",
     "text": [
      "----------------------------------------------------------------------------------------------------\n",
      "Epoch 52/200, Loss: 0.0453, AUC-ROC: 0.8959, Time: 0:50\n"
     ]
    },
    {
     "name": "stderr",
     "output_type": "stream",
     "text": [
      "24/07/11 14:34:45 WARN TaskSetManager: Stage 0 contains a task of very large size (15067 KiB). The maximum recommended task size is 1000 KiB.\n",
      "                                                                                \r"
     ]
    },
    {
     "name": "stdout",
     "output_type": "stream",
     "text": [
      "----------------------------------------------------------------------------------------------------\n",
      "Epoch 53/200, Loss: 0.0422, AUC-ROC: 0.9016, Time: 0:42\n"
     ]
    },
    {
     "name": "stderr",
     "output_type": "stream",
     "text": [
      "24/07/11 14:35:32 WARN TaskSetManager: Stage 0 contains a task of very large size (15067 KiB). The maximum recommended task size is 1000 KiB.\n",
      "                                                                                \r"
     ]
    },
    {
     "name": "stdout",
     "output_type": "stream",
     "text": [
      "----------------------------------------------------------------------------------------------------\n",
      "Epoch 54/200, Loss: 0.0406, AUC-ROC: 0.9354, Time: 0:49\n"
     ]
    },
    {
     "name": "stderr",
     "output_type": "stream",
     "text": [
      "24/07/11 14:36:19 WARN TaskSetManager: Stage 0 contains a task of very large size (15067 KiB). The maximum recommended task size is 1000 KiB.\n",
      "                                                                                \r"
     ]
    },
    {
     "name": "stdout",
     "output_type": "stream",
     "text": [
      "----------------------------------------------------------------------------------------------------\n",
      "Epoch 55/200, Loss: 0.0437, AUC-ROC: 0.8971, Time: 0:44\n"
     ]
    },
    {
     "name": "stderr",
     "output_type": "stream",
     "text": [
      "24/07/11 14:37:07 WARN TaskSetManager: Stage 0 contains a task of very large size (15067 KiB). The maximum recommended task size is 1000 KiB.\n",
      "                                                                                \r"
     ]
    },
    {
     "name": "stdout",
     "output_type": "stream",
     "text": [
      "----------------------------------------------------------------------------------------------------\n",
      "Epoch 56/200, Loss: 0.0448, AUC-ROC: 0.9387, Time: 0:47\n"
     ]
    },
    {
     "name": "stderr",
     "output_type": "stream",
     "text": [
      "24/07/11 14:37:53 WARN TaskSetManager: Stage 0 contains a task of very large size (15067 KiB). The maximum recommended task size is 1000 KiB.\n",
      "                                                                                \r"
     ]
    },
    {
     "name": "stdout",
     "output_type": "stream",
     "text": [
      "----------------------------------------------------------------------------------------------------\n",
      "Epoch 57/200, Loss: 0.0509, AUC-ROC: 0.8838, Time: 0:45\n"
     ]
    },
    {
     "name": "stderr",
     "output_type": "stream",
     "text": [
      "24/07/11 14:38:38 WARN TaskSetManager: Stage 0 contains a task of very large size (15067 KiB). The maximum recommended task size is 1000 KiB.\n",
      "                                                                                \r"
     ]
    },
    {
     "name": "stdout",
     "output_type": "stream",
     "text": [
      "----------------------------------------------------------------------------------------------------\n",
      "Epoch 58/200, Loss: 0.0660, AUC-ROC: 0.9403, Time: 0:45\n"
     ]
    },
    {
     "name": "stderr",
     "output_type": "stream",
     "text": [
      "24/07/11 14:39:23 WARN TaskSetManager: Stage 0 contains a task of very large size (15067 KiB). The maximum recommended task size is 1000 KiB.\n",
      "                                                                                \r"
     ]
    },
    {
     "name": "stdout",
     "output_type": "stream",
     "text": [
      "----------------------------------------------------------------------------------------------------\n",
      "Epoch 59/200, Loss: 0.0455, AUC-ROC: 0.9149, Time: 0:46\n"
     ]
    },
    {
     "name": "stderr",
     "output_type": "stream",
     "text": [
      "24/07/11 14:40:12 WARN TaskSetManager: Stage 0 contains a task of very large size (15067 KiB). The maximum recommended task size is 1000 KiB.\n",
      "                                                                                \r"
     ]
    },
    {
     "name": "stdout",
     "output_type": "stream",
     "text": [
      "----------------------------------------------------------------------------------------------------\n",
      "Epoch 60/200, Loss: 0.0492, AUC-ROC: 0.9304, Time: 0:46\n"
     ]
    },
    {
     "name": "stderr",
     "output_type": "stream",
     "text": [
      "24/07/11 14:40:56 WARN TaskSetManager: Stage 0 contains a task of very large size (15067 KiB). The maximum recommended task size is 1000 KiB.\n",
      "                                                                                \r"
     ]
    },
    {
     "name": "stdout",
     "output_type": "stream",
     "text": [
      "----------------------------------------------------------------------------------------------------\n",
      "Epoch 61/200, Loss: 0.0456, AUC-ROC: 0.9037, Time: 0:44\n"
     ]
    },
    {
     "name": "stderr",
     "output_type": "stream",
     "text": [
      "24/07/11 14:41:41 WARN TaskSetManager: Stage 0 contains a task of very large size (15067 KiB). The maximum recommended task size is 1000 KiB.\n",
      "                                                                                \r"
     ]
    },
    {
     "name": "stdout",
     "output_type": "stream",
     "text": [
      "----------------------------------------------------------------------------------------------------\n",
      "Epoch 62/200, Loss: 0.0404, AUC-ROC: 0.9050, Time: 0:45\n"
     ]
    },
    {
     "name": "stderr",
     "output_type": "stream",
     "text": [
      "24/07/11 14:42:26 WARN TaskSetManager: Stage 0 contains a task of very large size (15067 KiB). The maximum recommended task size is 1000 KiB.\n",
      "                                                                                \r"
     ]
    },
    {
     "name": "stdout",
     "output_type": "stream",
     "text": [
      "----------------------------------------------------------------------------------------------------\n",
      "Epoch 63/200, Loss: 0.0395, AUC-ROC: 0.8290, Time: 0:45\n"
     ]
    },
    {
     "name": "stderr",
     "output_type": "stream",
     "text": [
      "24/07/11 14:43:14 WARN TaskSetManager: Stage 0 contains a task of very large size (15067 KiB). The maximum recommended task size is 1000 KiB.\n",
      "                                                                                \r"
     ]
    },
    {
     "name": "stdout",
     "output_type": "stream",
     "text": [
      "----------------------------------------------------------------------------------------------------\n",
      "Epoch 64/200, Loss: 0.0423, AUC-ROC: 0.8994, Time: 0:50\n"
     ]
    },
    {
     "name": "stderr",
     "output_type": "stream",
     "text": [
      "24/07/11 14:44:03 WARN TaskSetManager: Stage 0 contains a task of very large size (15067 KiB). The maximum recommended task size is 1000 KiB.\n",
      "                                                                                \r"
     ]
    },
    {
     "name": "stdout",
     "output_type": "stream",
     "text": [
      "----------------------------------------------------------------------------------------------------\n",
      "Epoch 65/200, Loss: 0.0397, AUC-ROC: 0.9280, Time: 0:45\n"
     ]
    },
    {
     "name": "stderr",
     "output_type": "stream",
     "text": [
      "24/07/11 14:44:48 WARN TaskSetManager: Stage 0 contains a task of very large size (15067 KiB). The maximum recommended task size is 1000 KiB.\n",
      "                                                                                \r"
     ]
    },
    {
     "name": "stdout",
     "output_type": "stream",
     "text": [
      "----------------------------------------------------------------------------------------------------\n",
      "Epoch 66/200, Loss: 0.0400, AUC-ROC: 0.9014, Time: 0:45\n"
     ]
    },
    {
     "name": "stderr",
     "output_type": "stream",
     "text": [
      "24/07/11 14:45:33 WARN TaskSetManager: Stage 0 contains a task of very large size (15067 KiB). The maximum recommended task size is 1000 KiB.\n",
      "                                                                                \r"
     ]
    },
    {
     "name": "stdout",
     "output_type": "stream",
     "text": [
      "----------------------------------------------------------------------------------------------------\n",
      "Epoch 67/200, Loss: 0.0388, AUC-ROC: 0.8852, Time: 0:44\n"
     ]
    },
    {
     "name": "stderr",
     "output_type": "stream",
     "text": [
      "24/07/11 14:46:20 WARN TaskSetManager: Stage 0 contains a task of very large size (15067 KiB). The maximum recommended task size is 1000 KiB.\n",
      "                                                                                \r"
     ]
    },
    {
     "name": "stdout",
     "output_type": "stream",
     "text": [
      "----------------------------------------------------------------------------------------------------\n",
      "Epoch 68/200, Loss: 0.0384, AUC-ROC: 0.9282, Time: 0:46\n"
     ]
    },
    {
     "name": "stderr",
     "output_type": "stream",
     "text": [
      "24/07/11 14:47:04 WARN TaskSetManager: Stage 0 contains a task of very large size (15067 KiB). The maximum recommended task size is 1000 KiB.\n",
      "                                                                                \r"
     ]
    },
    {
     "name": "stdout",
     "output_type": "stream",
     "text": [
      "----------------------------------------------------------------------------------------------------\n",
      "Epoch 69/200, Loss: 0.0362, AUC-ROC: 0.9407, Time: 0:45\n"
     ]
    },
    {
     "name": "stderr",
     "output_type": "stream",
     "text": [
      "24/07/11 14:47:51 WARN TaskSetManager: Stage 0 contains a task of very large size (15067 KiB). The maximum recommended task size is 1000 KiB.\n",
      "                                                                                \r"
     ]
    },
    {
     "name": "stdout",
     "output_type": "stream",
     "text": [
      "----------------------------------------------------------------------------------------------------\n",
      "Epoch 70/200, Loss: 0.0469, AUC-ROC: 0.9140, Time: 0:44\n"
     ]
    },
    {
     "name": "stderr",
     "output_type": "stream",
     "text": [
      "24/07/11 14:48:36 WARN TaskSetManager: Stage 0 contains a task of very large size (15067 KiB). The maximum recommended task size is 1000 KiB.\n",
      "                                                                                \r"
     ]
    },
    {
     "name": "stdout",
     "output_type": "stream",
     "text": [
      "----------------------------------------------------------------------------------------------------\n",
      "Epoch 71/200, Loss: 0.0388, AUC-ROC: 0.9261, Time: 0:45\n"
     ]
    },
    {
     "name": "stderr",
     "output_type": "stream",
     "text": [
      "24/07/11 14:49:22 WARN TaskSetManager: Stage 0 contains a task of very large size (15067 KiB). The maximum recommended task size is 1000 KiB.\n",
      "                                                                                \r"
     ]
    },
    {
     "name": "stdout",
     "output_type": "stream",
     "text": [
      "----------------------------------------------------------------------------------------------------\n",
      "Epoch 72/200, Loss: 0.0351, AUC-ROC: 0.9150, Time: 0:46\n"
     ]
    },
    {
     "name": "stderr",
     "output_type": "stream",
     "text": [
      "24/07/11 14:50:10 WARN TaskSetManager: Stage 0 contains a task of very large size (15067 KiB). The maximum recommended task size is 1000 KiB.\n",
      "                                                                                \r"
     ]
    },
    {
     "name": "stdout",
     "output_type": "stream",
     "text": [
      "----------------------------------------------------------------------------------------------------\n",
      "Epoch 73/200, Loss: 0.0347, AUC-ROC: 0.9377, Time: 0:48\n"
     ]
    },
    {
     "name": "stderr",
     "output_type": "stream",
     "text": [
      "24/07/11 14:50:54 WARN TaskSetManager: Stage 0 contains a task of very large size (15067 KiB). The maximum recommended task size is 1000 KiB.\n",
      "                                                                                \r"
     ]
    },
    {
     "name": "stdout",
     "output_type": "stream",
     "text": [
      "----------------------------------------------------------------------------------------------------\n",
      "Epoch 74/200, Loss: 0.0329, AUC-ROC: 0.9242, Time: 0:43\n"
     ]
    },
    {
     "name": "stderr",
     "output_type": "stream",
     "text": [
      "24/07/11 14:51:36 WARN TaskSetManager: Stage 0 contains a task of very large size (15067 KiB). The maximum recommended task size is 1000 KiB.\n",
      "                                                                                \r"
     ]
    },
    {
     "name": "stdout",
     "output_type": "stream",
     "text": [
      "----------------------------------------------------------------------------------------------------\n",
      "Epoch 75/200, Loss: 0.0334, AUC-ROC: 0.9265, Time: 0:42\n"
     ]
    },
    {
     "name": "stderr",
     "output_type": "stream",
     "text": [
      "24/07/11 14:52:17 WARN TaskSetManager: Stage 0 contains a task of very large size (15067 KiB). The maximum recommended task size is 1000 KiB.\n",
      "                                                                                \r"
     ]
    },
    {
     "name": "stdout",
     "output_type": "stream",
     "text": [
      "----------------------------------------------------------------------------------------------------\n",
      "Epoch 76/200, Loss: 0.0453, AUC-ROC: 0.9279, Time: 0:39\n"
     ]
    },
    {
     "name": "stderr",
     "output_type": "stream",
     "text": [
      "24/07/11 14:52:54 WARN TaskSetManager: Stage 0 contains a task of very large size (15067 KiB). The maximum recommended task size is 1000 KiB.\n",
      "                                                                                \r"
     ]
    },
    {
     "name": "stdout",
     "output_type": "stream",
     "text": [
      "----------------------------------------------------------------------------------------------------\n",
      "Epoch 77/200, Loss: 0.0386, AUC-ROC: 0.9268, Time: 0:37\n"
     ]
    },
    {
     "name": "stderr",
     "output_type": "stream",
     "text": [
      "24/07/11 14:53:33 WARN TaskSetManager: Stage 0 contains a task of very large size (15067 KiB). The maximum recommended task size is 1000 KiB.\n",
      "                                                                                \r"
     ]
    },
    {
     "name": "stdout",
     "output_type": "stream",
     "text": [
      "----------------------------------------------------------------------------------------------------\n",
      "Epoch 78/200, Loss: 0.0332, AUC-ROC: 0.9092, Time: 0:38\n"
     ]
    },
    {
     "name": "stderr",
     "output_type": "stream",
     "text": [
      "24/07/11 14:54:10 WARN TaskSetManager: Stage 0 contains a task of very large size (15067 KiB). The maximum recommended task size is 1000 KiB.\n",
      "                                                                                \r"
     ]
    },
    {
     "name": "stdout",
     "output_type": "stream",
     "text": [
      "----------------------------------------------------------------------------------------------------\n",
      "Epoch 79/200, Loss: 0.0312, AUC-ROC: 0.9165, Time: 0:37\n"
     ]
    },
    {
     "name": "stderr",
     "output_type": "stream",
     "text": [
      "24/07/11 14:54:48 WARN TaskSetManager: Stage 0 contains a task of very large size (15067 KiB). The maximum recommended task size is 1000 KiB.\n",
      "                                                                                \r"
     ]
    },
    {
     "name": "stdout",
     "output_type": "stream",
     "text": [
      "----------------------------------------------------------------------------------------------------\n",
      "Epoch 80/200, Loss: 0.0296, AUC-ROC: 0.9343, Time: 0:38\n"
     ]
    },
    {
     "name": "stderr",
     "output_type": "stream",
     "text": [
      "24/07/11 14:55:25 WARN TaskSetManager: Stage 0 contains a task of very large size (15067 KiB). The maximum recommended task size is 1000 KiB.\n",
      "                                                                                \r"
     ]
    },
    {
     "name": "stdout",
     "output_type": "stream",
     "text": [
      "----------------------------------------------------------------------------------------------------\n",
      "Epoch 81/200, Loss: 0.0288, AUC-ROC: 0.9369, Time: 0:37\n"
     ]
    },
    {
     "name": "stderr",
     "output_type": "stream",
     "text": [
      "24/07/11 14:56:06 WARN TaskSetManager: Stage 0 contains a task of very large size (15067 KiB). The maximum recommended task size is 1000 KiB.\n",
      "                                                                                \r"
     ]
    },
    {
     "name": "stdout",
     "output_type": "stream",
     "text": [
      "----------------------------------------------------------------------------------------------------\n",
      "Epoch 82/200, Loss: 0.0290, AUC-ROC: 0.9305, Time: 0:41\n"
     ]
    },
    {
     "name": "stderr",
     "output_type": "stream",
     "text": [
      "24/07/11 14:56:45 WARN TaskSetManager: Stage 0 contains a task of very large size (15067 KiB). The maximum recommended task size is 1000 KiB.\n",
      "                                                                                \r"
     ]
    },
    {
     "name": "stdout",
     "output_type": "stream",
     "text": [
      "----------------------------------------------------------------------------------------------------\n",
      "Epoch 83/200, Loss: 0.0295, AUC-ROC: 0.8837, Time: 0:37\n"
     ]
    },
    {
     "name": "stderr",
     "output_type": "stream",
     "text": [
      "24/07/11 14:57:22 WARN TaskSetManager: Stage 0 contains a task of very large size (15067 KiB). The maximum recommended task size is 1000 KiB.\n",
      "                                                                                \r"
     ]
    },
    {
     "name": "stdout",
     "output_type": "stream",
     "text": [
      "----------------------------------------------------------------------------------------------------\n",
      "Epoch 84/200, Loss: 0.1423, AUC-ROC: 0.6445, Time: 0:37\n"
     ]
    },
    {
     "name": "stderr",
     "output_type": "stream",
     "text": [
      "24/07/11 14:58:01 WARN TaskSetManager: Stage 0 contains a task of very large size (15067 KiB). The maximum recommended task size is 1000 KiB.\n",
      "                                                                                \r"
     ]
    },
    {
     "name": "stdout",
     "output_type": "stream",
     "text": [
      "----------------------------------------------------------------------------------------------------\n",
      "Epoch 85/200, Loss: 0.0931, AUC-ROC: 0.8392, Time: 0:38\n"
     ]
    },
    {
     "name": "stderr",
     "output_type": "stream",
     "text": [
      "24/07/11 14:58:39 WARN TaskSetManager: Stage 0 contains a task of very large size (15067 KiB). The maximum recommended task size is 1000 KiB.\n",
      "                                                                                \r"
     ]
    },
    {
     "name": "stdout",
     "output_type": "stream",
     "text": [
      "----------------------------------------------------------------------------------------------------\n",
      "Epoch 86/200, Loss: 0.0735, AUC-ROC: 0.9125, Time: 0:37\n"
     ]
    },
    {
     "name": "stderr",
     "output_type": "stream",
     "text": [
      "24/07/11 14:59:16 WARN TaskSetManager: Stage 0 contains a task of very large size (15067 KiB). The maximum recommended task size is 1000 KiB.\n",
      "                                                                                \r"
     ]
    },
    {
     "name": "stdout",
     "output_type": "stream",
     "text": [
      "----------------------------------------------------------------------------------------------------\n",
      "Epoch 87/200, Loss: 0.0640, AUC-ROC: 0.8682, Time: 0:38\n"
     ]
    },
    {
     "name": "stderr",
     "output_type": "stream",
     "text": [
      "24/07/11 14:59:55 WARN TaskSetManager: Stage 0 contains a task of very large size (15067 KiB). The maximum recommended task size is 1000 KiB.\n",
      "                                                                                \r"
     ]
    },
    {
     "name": "stdout",
     "output_type": "stream",
     "text": [
      "----------------------------------------------------------------------------------------------------\n",
      "Epoch 88/200, Loss: 0.0525, AUC-ROC: 0.8316, Time: 0:37\n"
     ]
    },
    {
     "name": "stderr",
     "output_type": "stream",
     "text": [
      "24/07/11 15:00:35 WARN TaskSetManager: Stage 0 contains a task of very large size (15067 KiB). The maximum recommended task size is 1000 KiB.\n",
      "                                                                                \r"
     ]
    },
    {
     "name": "stdout",
     "output_type": "stream",
     "text": [
      "----------------------------------------------------------------------------------------------------\n",
      "Epoch 89/200, Loss: 0.0473, AUC-ROC: 0.9238, Time: 0:43\n"
     ]
    },
    {
     "name": "stderr",
     "output_type": "stream",
     "text": [
      "24/07/11 15:01:23 WARN TaskSetManager: Stage 0 contains a task of very large size (15067 KiB). The maximum recommended task size is 1000 KiB.\n",
      "                                                                                \r"
     ]
    },
    {
     "name": "stdout",
     "output_type": "stream",
     "text": [
      "----------------------------------------------------------------------------------------------------\n",
      "Epoch 90/200, Loss: 0.0499, AUC-ROC: 0.8603, Time: 0:44\n"
     ]
    },
    {
     "name": "stderr",
     "output_type": "stream",
     "text": [
      "24/07/11 15:02:09 WARN TaskSetManager: Stage 0 contains a task of very large size (15067 KiB). The maximum recommended task size is 1000 KiB.\n",
      "                                                                                \r"
     ]
    },
    {
     "name": "stdout",
     "output_type": "stream",
     "text": [
      "----------------------------------------------------------------------------------------------------\n",
      "Epoch 91/200, Loss: 0.0432, AUC-ROC: 0.9322, Time: 0:47\n"
     ]
    },
    {
     "name": "stderr",
     "output_type": "stream",
     "text": [
      "24/07/11 15:03:04 WARN TaskSetManager: Stage 0 contains a task of very large size (15067 KiB). The maximum recommended task size is 1000 KiB.\n",
      "                                                                                \r"
     ]
    },
    {
     "name": "stdout",
     "output_type": "stream",
     "text": [
      "----------------------------------------------------------------------------------------------------\n",
      "Epoch 92/200, Loss: 0.0407, AUC-ROC: 0.9015, Time: 0:56\n"
     ]
    },
    {
     "name": "stderr",
     "output_type": "stream",
     "text": [
      "24/07/11 15:03:55 WARN TaskSetManager: Stage 0 contains a task of very large size (15067 KiB). The maximum recommended task size is 1000 KiB.\n",
      "                                                                                \r"
     ]
    },
    {
     "name": "stdout",
     "output_type": "stream",
     "text": [
      "----------------------------------------------------------------------------------------------------\n",
      "Epoch 93/200, Loss: 0.0395, AUC-ROC: 0.8567, Time: 0:50\n"
     ]
    },
    {
     "name": "stderr",
     "output_type": "stream",
     "text": [
      "24/07/11 15:04:41 WARN TaskSetManager: Stage 0 contains a task of very large size (15067 KiB). The maximum recommended task size is 1000 KiB.\n",
      "                                                                                \r"
     ]
    },
    {
     "name": "stdout",
     "output_type": "stream",
     "text": [
      "----------------------------------------------------------------------------------------------------\n",
      "Epoch 94/200, Loss: 0.0474, AUC-ROC: 0.9249, Time: 0:50\n"
     ]
    },
    {
     "name": "stderr",
     "output_type": "stream",
     "text": [
      "24/07/11 15:05:33 WARN TaskSetManager: Stage 0 contains a task of very large size (15067 KiB). The maximum recommended task size is 1000 KiB.\n",
      "                                                                                \r"
     ]
    },
    {
     "name": "stdout",
     "output_type": "stream",
     "text": [
      "----------------------------------------------------------------------------------------------------\n",
      "Epoch 95/200, Loss: 0.0462, AUC-ROC: 0.9017, Time: 0:47\n"
     ]
    },
    {
     "name": "stderr",
     "output_type": "stream",
     "text": [
      "24/07/11 15:06:16 WARN TaskSetManager: Stage 0 contains a task of very large size (15067 KiB). The maximum recommended task size is 1000 KiB.\n",
      "                                                                                \r"
     ]
    },
    {
     "name": "stdout",
     "output_type": "stream",
     "text": [
      "----------------------------------------------------------------------------------------------------\n",
      "Epoch 96/200, Loss: 0.0367, AUC-ROC: 0.9373, Time: 0:42\n"
     ]
    },
    {
     "name": "stderr",
     "output_type": "stream",
     "text": [
      "24/07/11 15:07:03 WARN TaskSetManager: Stage 0 contains a task of very large size (15067 KiB). The maximum recommended task size is 1000 KiB.\n",
      "                                                                                \r"
     ]
    },
    {
     "name": "stdout",
     "output_type": "stream",
     "text": [
      "----------------------------------------------------------------------------------------------------\n",
      "Epoch 97/200, Loss: 0.0450, AUC-ROC: 0.8875, Time: 0:49\n"
     ]
    },
    {
     "name": "stderr",
     "output_type": "stream",
     "text": [
      "24/07/11 15:07:51 WARN TaskSetManager: Stage 0 contains a task of very large size (15067 KiB). The maximum recommended task size is 1000 KiB.\n",
      "                                                                                \r"
     ]
    },
    {
     "name": "stdout",
     "output_type": "stream",
     "text": [
      "----------------------------------------------------------------------------------------------------\n",
      "Epoch 98/200, Loss: 0.0339, AUC-ROC: 0.8998, Time: 0:44\n"
     ]
    },
    {
     "name": "stderr",
     "output_type": "stream",
     "text": [
      "24/07/11 15:08:35 WARN TaskSetManager: Stage 0 contains a task of very large size (15067 KiB). The maximum recommended task size is 1000 KiB.\n",
      "                                                                                \r"
     ]
    },
    {
     "name": "stdout",
     "output_type": "stream",
     "text": [
      "----------------------------------------------------------------------------------------------------\n",
      "Epoch 99/200, Loss: 0.0320, AUC-ROC: 0.9165, Time: 0:46\n"
     ]
    },
    {
     "name": "stderr",
     "output_type": "stream",
     "text": [
      "24/07/11 15:09:19 WARN TaskSetManager: Stage 0 contains a task of very large size (15067 KiB). The maximum recommended task size is 1000 KiB.\n",
      "                                                                                \r"
     ]
    },
    {
     "name": "stdout",
     "output_type": "stream",
     "text": [
      "----------------------------------------------------------------------------------------------------\n",
      "Epoch 100/200, Loss: 0.0287, AUC-ROC: 0.9193, Time: 0:42\n"
     ]
    },
    {
     "name": "stderr",
     "output_type": "stream",
     "text": [
      "24/07/11 15:10:04 WARN TaskSetManager: Stage 0 contains a task of very large size (15067 KiB). The maximum recommended task size is 1000 KiB.\n",
      "                                                                                \r"
     ]
    },
    {
     "name": "stdout",
     "output_type": "stream",
     "text": [
      "----------------------------------------------------------------------------------------------------\n",
      "Epoch 101/200, Loss: 0.0282, AUC-ROC: 0.9148, Time: 0:44\n"
     ]
    },
    {
     "name": "stderr",
     "output_type": "stream",
     "text": [
      "24/07/11 15:10:45 WARN TaskSetManager: Stage 0 contains a task of very large size (15067 KiB). The maximum recommended task size is 1000 KiB.\n",
      "                                                                                \r"
     ]
    },
    {
     "name": "stdout",
     "output_type": "stream",
     "text": [
      "----------------------------------------------------------------------------------------------------\n",
      "Epoch 102/200, Loss: 0.0330, AUC-ROC: 0.8920, Time: 0:42\n"
     ]
    },
    {
     "name": "stderr",
     "output_type": "stream",
     "text": [
      "24/07/11 15:11:30 WARN TaskSetManager: Stage 0 contains a task of very large size (15067 KiB). The maximum recommended task size is 1000 KiB.\n",
      "                                                                                \r"
     ]
    },
    {
     "name": "stdout",
     "output_type": "stream",
     "text": [
      "----------------------------------------------------------------------------------------------------\n",
      "Epoch 103/200, Loss: 0.0276, AUC-ROC: 0.9064, Time: 0:44\n"
     ]
    },
    {
     "name": "stderr",
     "output_type": "stream",
     "text": [
      "24/07/11 15:12:12 WARN TaskSetManager: Stage 0 contains a task of very large size (15067 KiB). The maximum recommended task size is 1000 KiB.\n",
      "                                                                                \r"
     ]
    },
    {
     "name": "stdout",
     "output_type": "stream",
     "text": [
      "----------------------------------------------------------------------------------------------------\n",
      "Epoch 104/200, Loss: 0.0267, AUC-ROC: 0.9157, Time: 0:42\n"
     ]
    },
    {
     "name": "stderr",
     "output_type": "stream",
     "text": [
      "24/07/11 15:12:56 WARN TaskSetManager: Stage 0 contains a task of very large size (15067 KiB). The maximum recommended task size is 1000 KiB.\n",
      "                                                                                \r"
     ]
    },
    {
     "name": "stdout",
     "output_type": "stream",
     "text": [
      "----------------------------------------------------------------------------------------------------\n",
      "Epoch 105/200, Loss: 0.0240, AUC-ROC: 0.9169, Time: 0:43\n"
     ]
    },
    {
     "name": "stderr",
     "output_type": "stream",
     "text": [
      "24/07/11 15:13:38 WARN TaskSetManager: Stage 0 contains a task of very large size (15067 KiB). The maximum recommended task size is 1000 KiB.\n",
      "                                                                                \r"
     ]
    },
    {
     "name": "stdout",
     "output_type": "stream",
     "text": [
      "----------------------------------------------------------------------------------------------------\n",
      "Epoch 106/200, Loss: 0.0278, AUC-ROC: 0.8859, Time: 0:41\n"
     ]
    },
    {
     "name": "stderr",
     "output_type": "stream",
     "text": [
      "24/07/11 15:14:22 WARN TaskSetManager: Stage 0 contains a task of very large size (15067 KiB). The maximum recommended task size is 1000 KiB.\n",
      "                                                                                \r"
     ]
    },
    {
     "name": "stdout",
     "output_type": "stream",
     "text": [
      "----------------------------------------------------------------------------------------------------\n",
      "Epoch 107/200, Loss: 0.0260, AUC-ROC: 0.9117, Time: 0:44\n"
     ]
    },
    {
     "name": "stderr",
     "output_type": "stream",
     "text": [
      "24/07/11 15:15:05 WARN TaskSetManager: Stage 0 contains a task of very large size (15067 KiB). The maximum recommended task size is 1000 KiB.\n",
      "                                                                                \r"
     ]
    },
    {
     "name": "stdout",
     "output_type": "stream",
     "text": [
      "----------------------------------------------------------------------------------------------------\n",
      "Epoch 108/200, Loss: 0.0220, AUC-ROC: 0.9263, Time: 0:43\n"
     ]
    },
    {
     "name": "stderr",
     "output_type": "stream",
     "text": [
      "24/07/11 15:15:49 WARN TaskSetManager: Stage 0 contains a task of very large size (15067 KiB). The maximum recommended task size is 1000 KiB.\n",
      "                                                                                \r"
     ]
    },
    {
     "name": "stdout",
     "output_type": "stream",
     "text": [
      "----------------------------------------------------------------------------------------------------\n",
      "Epoch 109/200, Loss: 0.0201, AUC-ROC: 0.9208, Time: 0:43\n"
     ]
    },
    {
     "name": "stderr",
     "output_type": "stream",
     "text": [
      "24/07/11 15:16:32 WARN TaskSetManager: Stage 0 contains a task of very large size (15067 KiB). The maximum recommended task size is 1000 KiB.\n",
      "                                                                                \r"
     ]
    },
    {
     "name": "stdout",
     "output_type": "stream",
     "text": [
      "----------------------------------------------------------------------------------------------------\n",
      "Epoch 110/200, Loss: 0.0184, AUC-ROC: 0.9323, Time: 0:42\n"
     ]
    },
    {
     "name": "stderr",
     "output_type": "stream",
     "text": [
      "24/07/11 15:17:14 WARN TaskSetManager: Stage 0 contains a task of very large size (15067 KiB). The maximum recommended task size is 1000 KiB.\n",
      "                                                                                \r"
     ]
    },
    {
     "name": "stdout",
     "output_type": "stream",
     "text": [
      "----------------------------------------------------------------------------------------------------\n",
      "Epoch 111/200, Loss: 0.0186, AUC-ROC: 0.9227, Time: 0:42\n"
     ]
    },
    {
     "name": "stderr",
     "output_type": "stream",
     "text": [
      "24/07/11 15:17:57 WARN TaskSetManager: Stage 0 contains a task of very large size (15067 KiB). The maximum recommended task size is 1000 KiB.\n",
      "                                                                                \r"
     ]
    },
    {
     "name": "stdout",
     "output_type": "stream",
     "text": [
      "----------------------------------------------------------------------------------------------------\n",
      "Epoch 112/200, Loss: 0.0174, AUC-ROC: 0.9266, Time: 0:43\n"
     ]
    },
    {
     "name": "stderr",
     "output_type": "stream",
     "text": [
      "24/07/11 15:18:38 WARN TaskSetManager: Stage 0 contains a task of very large size (15067 KiB). The maximum recommended task size is 1000 KiB.\n",
      "                                                                                \r"
     ]
    },
    {
     "name": "stdout",
     "output_type": "stream",
     "text": [
      "----------------------------------------------------------------------------------------------------\n",
      "Epoch 113/200, Loss: 0.0284, AUC-ROC: 0.9174, Time: 0:40\n"
     ]
    },
    {
     "name": "stderr",
     "output_type": "stream",
     "text": [
      "24/07/11 15:19:23 WARN TaskSetManager: Stage 0 contains a task of very large size (15067 KiB). The maximum recommended task size is 1000 KiB.\n",
      "                                                                                \r"
     ]
    },
    {
     "name": "stdout",
     "output_type": "stream",
     "text": [
      "----------------------------------------------------------------------------------------------------\n",
      "Epoch 114/200, Loss: 0.0175, AUC-ROC: 0.9127, Time: 0:46\n"
     ]
    },
    {
     "name": "stderr",
     "output_type": "stream",
     "text": [
      "24/07/11 15:20:09 WARN TaskSetManager: Stage 0 contains a task of very large size (15067 KiB). The maximum recommended task size is 1000 KiB.\n",
      "                                                                                \r"
     ]
    },
    {
     "name": "stdout",
     "output_type": "stream",
     "text": [
      "----------------------------------------------------------------------------------------------------\n",
      "Epoch 115/200, Loss: 0.0155, AUC-ROC: 0.9272, Time: 0:43\n"
     ]
    },
    {
     "name": "stderr",
     "output_type": "stream",
     "text": [
      "24/07/11 15:20:51 WARN TaskSetManager: Stage 0 contains a task of very large size (15067 KiB). The maximum recommended task size is 1000 KiB.\n",
      "                                                                                \r"
     ]
    },
    {
     "name": "stdout",
     "output_type": "stream",
     "text": [
      "----------------------------------------------------------------------------------------------------\n",
      "Epoch 116/200, Loss: 0.0161, AUC-ROC: 0.8655, Time: 0:42\n"
     ]
    },
    {
     "name": "stderr",
     "output_type": "stream",
     "text": [
      "24/07/11 15:21:34 WARN TaskSetManager: Stage 0 contains a task of very large size (15067 KiB). The maximum recommended task size is 1000 KiB.\n",
      "                                                                                \r"
     ]
    },
    {
     "name": "stdout",
     "output_type": "stream",
     "text": [
      "----------------------------------------------------------------------------------------------------\n",
      "Epoch 117/200, Loss: 0.0538, AUC-ROC: 0.9399, Time: 0:41\n"
     ]
    },
    {
     "name": "stderr",
     "output_type": "stream",
     "text": [
      "24/07/11 15:22:16 WARN TaskSetManager: Stage 0 contains a task of very large size (15067 KiB). The maximum recommended task size is 1000 KiB.\n",
      "                                                                                \r"
     ]
    },
    {
     "name": "stdout",
     "output_type": "stream",
     "text": [
      "----------------------------------------------------------------------------------------------------\n",
      "Epoch 118/200, Loss: 0.0290, AUC-ROC: 0.9066, Time: 0:42\n"
     ]
    },
    {
     "name": "stderr",
     "output_type": "stream",
     "text": [
      "24/07/11 15:23:00 WARN TaskSetManager: Stage 0 contains a task of very large size (15067 KiB). The maximum recommended task size is 1000 KiB.\n",
      "                                                                                \r"
     ]
    },
    {
     "name": "stdout",
     "output_type": "stream",
     "text": [
      "----------------------------------------------------------------------------------------------------\n",
      "Epoch 119/200, Loss: 0.0298, AUC-ROC: 0.8973, Time: 0:43\n"
     ]
    },
    {
     "name": "stderr",
     "output_type": "stream",
     "text": [
      "24/07/11 15:23:41 WARN TaskSetManager: Stage 0 contains a task of very large size (15067 KiB). The maximum recommended task size is 1000 KiB.\n",
      "                                                                                \r"
     ]
    },
    {
     "name": "stdout",
     "output_type": "stream",
     "text": [
      "----------------------------------------------------------------------------------------------------\n",
      "Epoch 120/200, Loss: 0.0187, AUC-ROC: 0.9196, Time: 0:41\n"
     ]
    },
    {
     "name": "stderr",
     "output_type": "stream",
     "text": [
      "24/07/11 15:24:25 WARN TaskSetManager: Stage 0 contains a task of very large size (15067 KiB). The maximum recommended task size is 1000 KiB.\n",
      "                                                                                \r"
     ]
    },
    {
     "name": "stdout",
     "output_type": "stream",
     "text": [
      "----------------------------------------------------------------------------------------------------\n",
      "Epoch 121/200, Loss: 0.0154, AUC-ROC: 0.9223, Time: 0:46\n"
     ]
    },
    {
     "name": "stderr",
     "output_type": "stream",
     "text": [
      "24/07/11 15:25:11 WARN TaskSetManager: Stage 0 contains a task of very large size (15067 KiB). The maximum recommended task size is 1000 KiB.\n",
      "                                                                                \r"
     ]
    },
    {
     "name": "stdout",
     "output_type": "stream",
     "text": [
      "----------------------------------------------------------------------------------------------------\n",
      "Epoch 122/200, Loss: 0.0138, AUC-ROC: 0.9239, Time: 0:43\n"
     ]
    },
    {
     "name": "stderr",
     "output_type": "stream",
     "text": [
      "24/07/11 15:25:53 WARN TaskSetManager: Stage 0 contains a task of very large size (15067 KiB). The maximum recommended task size is 1000 KiB.\n",
      "                                                                                \r"
     ]
    },
    {
     "name": "stdout",
     "output_type": "stream",
     "text": [
      "----------------------------------------------------------------------------------------------------\n",
      "Epoch 123/200, Loss: 0.0130, AUC-ROC: 0.9175, Time: 0:43\n"
     ]
    },
    {
     "name": "stderr",
     "output_type": "stream",
     "text": [
      "24/07/11 15:26:36 WARN TaskSetManager: Stage 0 contains a task of very large size (15067 KiB). The maximum recommended task size is 1000 KiB.\n",
      "                                                                                \r"
     ]
    },
    {
     "name": "stdout",
     "output_type": "stream",
     "text": [
      "----------------------------------------------------------------------------------------------------\n",
      "Epoch 124/200, Loss: 0.0122, AUC-ROC: 0.9128, Time: 0:42\n"
     ]
    },
    {
     "name": "stderr",
     "output_type": "stream",
     "text": [
      "24/07/11 15:27:20 WARN TaskSetManager: Stage 0 contains a task of very large size (15067 KiB). The maximum recommended task size is 1000 KiB.\n",
      "                                                                                \r"
     ]
    },
    {
     "name": "stdout",
     "output_type": "stream",
     "text": [
      "----------------------------------------------------------------------------------------------------\n",
      "Epoch 125/200, Loss: 0.0115, AUC-ROC: 0.9119, Time: 0:43\n"
     ]
    },
    {
     "name": "stderr",
     "output_type": "stream",
     "text": [
      "24/07/11 15:28:01 WARN TaskSetManager: Stage 0 contains a task of very large size (15067 KiB). The maximum recommended task size is 1000 KiB.\n",
      "                                                                                \r"
     ]
    },
    {
     "name": "stdout",
     "output_type": "stream",
     "text": [
      "----------------------------------------------------------------------------------------------------\n",
      "Epoch 126/200, Loss: 0.0122, AUC-ROC: 0.9210, Time: 0:41\n"
     ]
    },
    {
     "name": "stderr",
     "output_type": "stream",
     "text": [
      "24/07/11 15:28:46 WARN TaskSetManager: Stage 0 contains a task of very large size (15067 KiB). The maximum recommended task size is 1000 KiB.\n",
      "                                                                                \r"
     ]
    },
    {
     "name": "stdout",
     "output_type": "stream",
     "text": [
      "----------------------------------------------------------------------------------------------------\n",
      "Epoch 127/200, Loss: 0.0109, AUC-ROC: 0.9234, Time: 0:45\n"
     ]
    },
    {
     "name": "stderr",
     "output_type": "stream",
     "text": [
      "24/07/11 15:29:29 WARN TaskSetManager: Stage 0 contains a task of very large size (15067 KiB). The maximum recommended task size is 1000 KiB.\n",
      "                                                                                \r"
     ]
    },
    {
     "name": "stdout",
     "output_type": "stream",
     "text": [
      "----------------------------------------------------------------------------------------------------\n",
      "Epoch 128/200, Loss: 0.0113, AUC-ROC: 0.9117, Time: 0:42\n"
     ]
    },
    {
     "name": "stderr",
     "output_type": "stream",
     "text": [
      "24/07/11 15:30:10 WARN TaskSetManager: Stage 0 contains a task of very large size (15067 KiB). The maximum recommended task size is 1000 KiB.\n",
      "                                                                                \r"
     ]
    },
    {
     "name": "stdout",
     "output_type": "stream",
     "text": [
      "----------------------------------------------------------------------------------------------------\n",
      "Epoch 129/200, Loss: 0.0118, AUC-ROC: 0.9231, Time: 0:41\n"
     ]
    },
    {
     "name": "stderr",
     "output_type": "stream",
     "text": [
      "24/07/11 15:30:54 WARN TaskSetManager: Stage 0 contains a task of very large size (15067 KiB). The maximum recommended task size is 1000 KiB.\n",
      "                                                                                \r"
     ]
    },
    {
     "name": "stdout",
     "output_type": "stream",
     "text": [
      "----------------------------------------------------------------------------------------------------\n",
      "Epoch 130/200, Loss: 0.0097, AUC-ROC: 0.9165, Time: 0:46\n"
     ]
    },
    {
     "name": "stderr",
     "output_type": "stream",
     "text": [
      "24/07/11 15:31:39 WARN TaskSetManager: Stage 0 contains a task of very large size (15067 KiB). The maximum recommended task size is 1000 KiB.\n",
      "                                                                                \r"
     ]
    },
    {
     "name": "stdout",
     "output_type": "stream",
     "text": [
      "----------------------------------------------------------------------------------------------------\n",
      "Epoch 131/200, Loss: 0.0091, AUC-ROC: 0.9250, Time: 0:42\n"
     ]
    },
    {
     "name": "stderr",
     "output_type": "stream",
     "text": [
      "24/07/11 15:32:17 WARN TaskSetManager: Stage 0 contains a task of very large size (15067 KiB). The maximum recommended task size is 1000 KiB.\n",
      "                                                                                \r"
     ]
    },
    {
     "name": "stdout",
     "output_type": "stream",
     "text": [
      "----------------------------------------------------------------------------------------------------\n",
      "Epoch 132/200, Loss: 0.0087, AUC-ROC: 0.9206, Time: 0:37\n"
     ]
    },
    {
     "name": "stderr",
     "output_type": "stream",
     "text": [
      "24/07/11 15:32:55 WARN TaskSetManager: Stage 0 contains a task of very large size (15067 KiB). The maximum recommended task size is 1000 KiB.\n",
      "                                                                                \r"
     ]
    },
    {
     "name": "stdout",
     "output_type": "stream",
     "text": [
      "----------------------------------------------------------------------------------------------------\n",
      "Epoch 133/200, Loss: 0.0083, AUC-ROC: 0.9210, Time: 0:39\n"
     ]
    },
    {
     "name": "stderr",
     "output_type": "stream",
     "text": [
      "24/07/11 15:33:35 WARN TaskSetManager: Stage 0 contains a task of very large size (15067 KiB). The maximum recommended task size is 1000 KiB.\n",
      "                                                                                \r"
     ]
    },
    {
     "name": "stdout",
     "output_type": "stream",
     "text": [
      "----------------------------------------------------------------------------------------------------\n",
      "Epoch 134/200, Loss: 0.0081, AUC-ROC: 0.9165, Time: 0:38\n"
     ]
    },
    {
     "name": "stderr",
     "output_type": "stream",
     "text": [
      "24/07/11 15:34:13 WARN TaskSetManager: Stage 0 contains a task of very large size (15067 KiB). The maximum recommended task size is 1000 KiB.\n",
      "                                                                                \r"
     ]
    },
    {
     "name": "stdout",
     "output_type": "stream",
     "text": [
      "----------------------------------------------------------------------------------------------------\n",
      "Epoch 135/200, Loss: 0.0079, AUC-ROC: 0.9218, Time: 0:37\n"
     ]
    },
    {
     "name": "stderr",
     "output_type": "stream",
     "text": [
      "24/07/11 15:34:51 WARN TaskSetManager: Stage 0 contains a task of very large size (15067 KiB). The maximum recommended task size is 1000 KiB.\n",
      "                                                                                \r"
     ]
    },
    {
     "name": "stdout",
     "output_type": "stream",
     "text": [
      "----------------------------------------------------------------------------------------------------\n",
      "Epoch 136/200, Loss: 0.0076, AUC-ROC: 0.9215, Time: 0:37\n"
     ]
    },
    {
     "name": "stderr",
     "output_type": "stream",
     "text": [
      "24/07/11 15:35:28 WARN TaskSetManager: Stage 0 contains a task of very large size (15067 KiB). The maximum recommended task size is 1000 KiB.\n",
      "                                                                                \r"
     ]
    },
    {
     "name": "stdout",
     "output_type": "stream",
     "text": [
      "----------------------------------------------------------------------------------------------------\n",
      "Epoch 137/200, Loss: 0.0802, AUC-ROC: 0.5017, Time: 0:37\n"
     ]
    },
    {
     "name": "stderr",
     "output_type": "stream",
     "text": [
      "24/07/11 15:36:07 WARN TaskSetManager: Stage 0 contains a task of very large size (15067 KiB). The maximum recommended task size is 1000 KiB.\n",
      "                                                                                \r"
     ]
    },
    {
     "name": "stdout",
     "output_type": "stream",
     "text": [
      "----------------------------------------------------------------------------------------------------\n",
      "Epoch 138/200, Loss: 0.2060, AUC-ROC: 0.5382, Time: 0:38\n"
     ]
    },
    {
     "name": "stderr",
     "output_type": "stream",
     "text": [
      "24/07/11 15:36:46 WARN TaskSetManager: Stage 0 contains a task of very large size (15067 KiB). The maximum recommended task size is 1000 KiB.\n",
      "                                                                                \r"
     ]
    },
    {
     "name": "stdout",
     "output_type": "stream",
     "text": [
      "----------------------------------------------------------------------------------------------------\n",
      "Epoch 139/200, Loss: 0.1647, AUC-ROC: 0.5559, Time: 0:40\n"
     ]
    },
    {
     "name": "stderr",
     "output_type": "stream",
     "text": [
      "24/07/11 15:37:25 WARN TaskSetManager: Stage 0 contains a task of very large size (15067 KiB). The maximum recommended task size is 1000 KiB.\n",
      "                                                                                \r"
     ]
    },
    {
     "name": "stdout",
     "output_type": "stream",
     "text": [
      "----------------------------------------------------------------------------------------------------\n",
      "Epoch 140/200, Loss: 0.1532, AUC-ROC: 0.6148, Time: 0:37\n"
     ]
    },
    {
     "name": "stderr",
     "output_type": "stream",
     "text": [
      "24/07/11 15:38:02 WARN TaskSetManager: Stage 0 contains a task of very large size (15067 KiB). The maximum recommended task size is 1000 KiB.\n",
      "                                                                                \r"
     ]
    },
    {
     "name": "stdout",
     "output_type": "stream",
     "text": [
      "----------------------------------------------------------------------------------------------------\n",
      "Epoch 141/200, Loss: 0.1463, AUC-ROC: 0.5931, Time: 0:37\n"
     ]
    },
    {
     "name": "stderr",
     "output_type": "stream",
     "text": [
      "24/07/11 15:38:40 WARN TaskSetManager: Stage 0 contains a task of very large size (15067 KiB). The maximum recommended task size is 1000 KiB.\n",
      "                                                                                \r"
     ]
    },
    {
     "name": "stdout",
     "output_type": "stream",
     "text": [
      "----------------------------------------------------------------------------------------------------\n",
      "Epoch 142/200, Loss: 0.1382, AUC-ROC: 0.7082, Time: 0:37\n"
     ]
    },
    {
     "name": "stderr",
     "output_type": "stream",
     "text": [
      "24/07/11 15:39:17 WARN TaskSetManager: Stage 0 contains a task of very large size (15067 KiB). The maximum recommended task size is 1000 KiB.\n",
      "                                                                                \r"
     ]
    },
    {
     "name": "stdout",
     "output_type": "stream",
     "text": [
      "----------------------------------------------------------------------------------------------------\n",
      "Epoch 143/200, Loss: 0.1364, AUC-ROC: 0.6622, Time: 0:37\n"
     ]
    },
    {
     "name": "stderr",
     "output_type": "stream",
     "text": [
      "24/07/11 15:39:55 WARN TaskSetManager: Stage 0 contains a task of very large size (15067 KiB). The maximum recommended task size is 1000 KiB.\n",
      "                                                                                \r"
     ]
    },
    {
     "name": "stdout",
     "output_type": "stream",
     "text": [
      "----------------------------------------------------------------------------------------------------\n",
      "Epoch 144/200, Loss: 0.1306, AUC-ROC: 0.7094, Time: 0:37\n"
     ]
    },
    {
     "name": "stderr",
     "output_type": "stream",
     "text": [
      "24/07/11 15:40:31 WARN TaskSetManager: Stage 0 contains a task of very large size (15067 KiB). The maximum recommended task size is 1000 KiB.\n",
      "                                                                                \r"
     ]
    },
    {
     "name": "stdout",
     "output_type": "stream",
     "text": [
      "----------------------------------------------------------------------------------------------------\n",
      "Epoch 145/200, Loss: 0.1180, AUC-ROC: 0.7750, Time: 0:37\n"
     ]
    },
    {
     "name": "stderr",
     "output_type": "stream",
     "text": [
      "24/07/11 15:41:09 WARN TaskSetManager: Stage 0 contains a task of very large size (15067 KiB). The maximum recommended task size is 1000 KiB.\n",
      "                                                                                \r"
     ]
    },
    {
     "name": "stdout",
     "output_type": "stream",
     "text": [
      "----------------------------------------------------------------------------------------------------\n",
      "Epoch 146/200, Loss: 0.1112, AUC-ROC: 0.7538, Time: 0:37\n"
     ]
    },
    {
     "name": "stderr",
     "output_type": "stream",
     "text": [
      "24/07/11 15:41:48 WARN TaskSetManager: Stage 0 contains a task of very large size (15067 KiB). The maximum recommended task size is 1000 KiB.\n",
      "                                                                                \r"
     ]
    },
    {
     "name": "stdout",
     "output_type": "stream",
     "text": [
      "----------------------------------------------------------------------------------------------------\n",
      "Epoch 147/200, Loss: 0.1046, AUC-ROC: 0.7224, Time: 0:39\n"
     ]
    },
    {
     "name": "stderr",
     "output_type": "stream",
     "text": [
      "24/07/11 15:42:27 WARN TaskSetManager: Stage 0 contains a task of very large size (15067 KiB). The maximum recommended task size is 1000 KiB.\n",
      "                                                                                \r"
     ]
    },
    {
     "name": "stdout",
     "output_type": "stream",
     "text": [
      "----------------------------------------------------------------------------------------------------\n",
      "Epoch 148/200, Loss: 0.0983, AUC-ROC: 0.7633, Time: 0:38\n"
     ]
    },
    {
     "name": "stderr",
     "output_type": "stream",
     "text": [
      "24/07/11 15:43:05 WARN TaskSetManager: Stage 0 contains a task of very large size (15067 KiB). The maximum recommended task size is 1000 KiB.\n",
      "                                                                                \r"
     ]
    },
    {
     "name": "stdout",
     "output_type": "stream",
     "text": [
      "----------------------------------------------------------------------------------------------------\n",
      "Epoch 149/200, Loss: 0.1043, AUC-ROC: 0.7556, Time: 0:37\n"
     ]
    },
    {
     "name": "stderr",
     "output_type": "stream",
     "text": [
      "24/07/11 15:43:42 WARN TaskSetManager: Stage 0 contains a task of very large size (15067 KiB). The maximum recommended task size is 1000 KiB.\n",
      "                                                                                \r"
     ]
    },
    {
     "name": "stdout",
     "output_type": "stream",
     "text": [
      "----------------------------------------------------------------------------------------------------\n",
      "Epoch 150/200, Loss: 0.0973, AUC-ROC: 0.8600, Time: 0:37\n"
     ]
    },
    {
     "name": "stderr",
     "output_type": "stream",
     "text": [
      "24/07/11 15:44:21 WARN TaskSetManager: Stage 0 contains a task of very large size (15067 KiB). The maximum recommended task size is 1000 KiB.\n",
      "                                                                                \r"
     ]
    },
    {
     "name": "stdout",
     "output_type": "stream",
     "text": [
      "----------------------------------------------------------------------------------------------------\n",
      "Epoch 151/200, Loss: 0.0850, AUC-ROC: 0.8220, Time: 0:38\n"
     ]
    },
    {
     "name": "stderr",
     "output_type": "stream",
     "text": [
      "24/07/11 15:44:59 WARN TaskSetManager: Stage 0 contains a task of very large size (15067 KiB). The maximum recommended task size is 1000 KiB.\n",
      "                                                                                \r"
     ]
    },
    {
     "name": "stdout",
     "output_type": "stream",
     "text": [
      "----------------------------------------------------------------------------------------------------\n",
      "Epoch 152/200, Loss: 0.0817, AUC-ROC: 0.8393, Time: 0:37\n"
     ]
    },
    {
     "name": "stderr",
     "output_type": "stream",
     "text": [
      "24/07/11 15:45:36 WARN TaskSetManager: Stage 0 contains a task of very large size (15067 KiB). The maximum recommended task size is 1000 KiB.\n",
      "                                                                                \r"
     ]
    },
    {
     "name": "stdout",
     "output_type": "stream",
     "text": [
      "----------------------------------------------------------------------------------------------------\n",
      "Epoch 153/200, Loss: 0.0758, AUC-ROC: 0.8086, Time: 0:36\n"
     ]
    },
    {
     "name": "stderr",
     "output_type": "stream",
     "text": [
      "24/07/11 15:46:14 WARN TaskSetManager: Stage 0 contains a task of very large size (15067 KiB). The maximum recommended task size is 1000 KiB.\n",
      "                                                                                \r"
     ]
    },
    {
     "name": "stdout",
     "output_type": "stream",
     "text": [
      "----------------------------------------------------------------------------------------------------\n",
      "Epoch 154/200, Loss: 0.0789, AUC-ROC: 0.8456, Time: 0:38\n"
     ]
    },
    {
     "name": "stderr",
     "output_type": "stream",
     "text": [
      "24/07/11 15:46:51 WARN TaskSetManager: Stage 0 contains a task of very large size (15067 KiB). The maximum recommended task size is 1000 KiB.\n",
      "                                                                                \r"
     ]
    },
    {
     "name": "stdout",
     "output_type": "stream",
     "text": [
      "----------------------------------------------------------------------------------------------------\n",
      "Epoch 155/200, Loss: 0.0764, AUC-ROC: 0.8436, Time: 0:37\n"
     ]
    },
    {
     "name": "stderr",
     "output_type": "stream",
     "text": [
      "24/07/11 15:47:29 WARN TaskSetManager: Stage 0 contains a task of very large size (15067 KiB). The maximum recommended task size is 1000 KiB.\n",
      "                                                                                \r"
     ]
    },
    {
     "name": "stdout",
     "output_type": "stream",
     "text": [
      "----------------------------------------------------------------------------------------------------\n",
      "Epoch 156/200, Loss: 0.0698, AUC-ROC: 0.9183, Time: 0:37\n"
     ]
    },
    {
     "name": "stderr",
     "output_type": "stream",
     "text": [
      "24/07/11 15:48:06 WARN TaskSetManager: Stage 0 contains a task of very large size (15067 KiB). The maximum recommended task size is 1000 KiB.\n",
      "                                                                                \r"
     ]
    },
    {
     "name": "stdout",
     "output_type": "stream",
     "text": [
      "----------------------------------------------------------------------------------------------------\n",
      "Epoch 157/200, Loss: 0.0600, AUC-ROC: 0.7925, Time: 0:38\n"
     ]
    },
    {
     "name": "stderr",
     "output_type": "stream",
     "text": [
      "24/07/11 15:48:44 WARN TaskSetManager: Stage 0 contains a task of very large size (15067 KiB). The maximum recommended task size is 1000 KiB.\n",
      "                                                                                \r"
     ]
    },
    {
     "name": "stdout",
     "output_type": "stream",
     "text": [
      "----------------------------------------------------------------------------------------------------\n",
      "Epoch 158/200, Loss: 0.0606, AUC-ROC: 0.8609, Time: 0:37\n"
     ]
    },
    {
     "name": "stderr",
     "output_type": "stream",
     "text": [
      "24/07/11 15:49:24 WARN TaskSetManager: Stage 0 contains a task of very large size (15067 KiB). The maximum recommended task size is 1000 KiB.\n",
      "                                                                                \r"
     ]
    },
    {
     "name": "stdout",
     "output_type": "stream",
     "text": [
      "----------------------------------------------------------------------------------------------------\n",
      "Epoch 159/200, Loss: 0.0576, AUC-ROC: 0.9327, Time: 0:41\n"
     ]
    },
    {
     "name": "stderr",
     "output_type": "stream",
     "text": [
      "24/07/11 15:50:02 WARN TaskSetManager: Stage 0 contains a task of very large size (15067 KiB). The maximum recommended task size is 1000 KiB.\n",
      "                                                                                \r"
     ]
    },
    {
     "name": "stdout",
     "output_type": "stream",
     "text": [
      "----------------------------------------------------------------------------------------------------\n",
      "Epoch 160/200, Loss: 0.0659, AUC-ROC: 0.8242, Time: 0:36\n"
     ]
    },
    {
     "name": "stderr",
     "output_type": "stream",
     "text": [
      "24/07/11 15:50:40 WARN TaskSetManager: Stage 0 contains a task of very large size (15067 KiB). The maximum recommended task size is 1000 KiB.\n",
      "                                                                                \r"
     ]
    },
    {
     "name": "stdout",
     "output_type": "stream",
     "text": [
      "----------------------------------------------------------------------------------------------------\n",
      "Epoch 161/200, Loss: 0.0555, AUC-ROC: 0.8729, Time: 0:37\n"
     ]
    },
    {
     "name": "stderr",
     "output_type": "stream",
     "text": [
      "24/07/11 15:51:18 WARN TaskSetManager: Stage 0 contains a task of very large size (15067 KiB). The maximum recommended task size is 1000 KiB.\n",
      "                                                                                \r"
     ]
    },
    {
     "name": "stdout",
     "output_type": "stream",
     "text": [
      "----------------------------------------------------------------------------------------------------\n",
      "Epoch 162/200, Loss: 0.0515, AUC-ROC: 0.8490, Time: 0:37\n"
     ]
    },
    {
     "name": "stderr",
     "output_type": "stream",
     "text": [
      "24/07/11 15:51:59 WARN TaskSetManager: Stage 0 contains a task of very large size (15067 KiB). The maximum recommended task size is 1000 KiB.\n",
      "                                                                                \r"
     ]
    },
    {
     "name": "stdout",
     "output_type": "stream",
     "text": [
      "----------------------------------------------------------------------------------------------------\n",
      "Epoch 163/200, Loss: 0.0613, AUC-ROC: 0.9208, Time: 0:41\n"
     ]
    },
    {
     "name": "stderr",
     "output_type": "stream",
     "text": [
      "24/07/11 15:52:40 WARN TaskSetManager: Stage 0 contains a task of very large size (15067 KiB). The maximum recommended task size is 1000 KiB.\n",
      "                                                                                \r"
     ]
    },
    {
     "name": "stdout",
     "output_type": "stream",
     "text": [
      "----------------------------------------------------------------------------------------------------\n",
      "Epoch 164/200, Loss: 0.0531, AUC-ROC: 0.9228, Time: 0:41\n"
     ]
    },
    {
     "name": "stderr",
     "output_type": "stream",
     "text": [
      "24/07/11 15:53:24 WARN TaskSetManager: Stage 0 contains a task of very large size (15067 KiB). The maximum recommended task size is 1000 KiB.\n",
      "                                                                                \r"
     ]
    },
    {
     "name": "stdout",
     "output_type": "stream",
     "text": [
      "----------------------------------------------------------------------------------------------------\n",
      "Epoch 165/200, Loss: 0.0572, AUC-ROC: 0.8788, Time: 0:43\n"
     ]
    },
    {
     "name": "stderr",
     "output_type": "stream",
     "text": [
      "24/07/11 15:54:09 WARN TaskSetManager: Stage 0 contains a task of very large size (15067 KiB). The maximum recommended task size is 1000 KiB.\n",
      "                                                                                \r"
     ]
    },
    {
     "name": "stdout",
     "output_type": "stream",
     "text": [
      "----------------------------------------------------------------------------------------------------\n",
      "Epoch 166/200, Loss: 0.0503, AUC-ROC: 0.9028, Time: 0:45\n"
     ]
    },
    {
     "name": "stderr",
     "output_type": "stream",
     "text": [
      "24/07/11 15:54:54 WARN TaskSetManager: Stage 0 contains a task of very large size (15067 KiB). The maximum recommended task size is 1000 KiB.\n",
      "                                                                                \r"
     ]
    },
    {
     "name": "stdout",
     "output_type": "stream",
     "text": [
      "----------------------------------------------------------------------------------------------------\n",
      "Epoch 167/200, Loss: 0.0480, AUC-ROC: 0.7920, Time: 0:43\n"
     ]
    },
    {
     "name": "stderr",
     "output_type": "stream",
     "text": [
      "24/07/11 15:55:38 WARN TaskSetManager: Stage 0 contains a task of very large size (15067 KiB). The maximum recommended task size is 1000 KiB.\n",
      "                                                                                \r"
     ]
    },
    {
     "name": "stdout",
     "output_type": "stream",
     "text": [
      "----------------------------------------------------------------------------------------------------\n",
      "Epoch 168/200, Loss: 0.0479, AUC-ROC: 0.8828, Time: 0:44\n"
     ]
    },
    {
     "name": "stderr",
     "output_type": "stream",
     "text": [
      "24/07/11 15:56:20 WARN TaskSetManager: Stage 0 contains a task of very large size (15067 KiB). The maximum recommended task size is 1000 KiB.\n",
      "                                                                                \r"
     ]
    },
    {
     "name": "stdout",
     "output_type": "stream",
     "text": [
      "----------------------------------------------------------------------------------------------------\n",
      "Epoch 169/200, Loss: 0.0459, AUC-ROC: 0.8686, Time: 0:42\n"
     ]
    },
    {
     "name": "stderr",
     "output_type": "stream",
     "text": [
      "24/07/11 15:57:08 WARN TaskSetManager: Stage 0 contains a task of very large size (15067 KiB). The maximum recommended task size is 1000 KiB.\n",
      "                                                                                \r"
     ]
    },
    {
     "name": "stdout",
     "output_type": "stream",
     "text": [
      "----------------------------------------------------------------------------------------------------\n",
      "Epoch 170/200, Loss: 0.0449, AUC-ROC: 0.8680, Time: 0:48\n"
     ]
    },
    {
     "name": "stderr",
     "output_type": "stream",
     "text": [
      "24/07/11 15:57:51 WARN TaskSetManager: Stage 0 contains a task of very large size (15067 KiB). The maximum recommended task size is 1000 KiB.\n",
      "                                                                                \r"
     ]
    },
    {
     "name": "stdout",
     "output_type": "stream",
     "text": [
      "----------------------------------------------------------------------------------------------------\n",
      "Epoch 171/200, Loss: 0.0460, AUC-ROC: 0.9217, Time: 0:42\n"
     ]
    },
    {
     "name": "stderr",
     "output_type": "stream",
     "text": [
      "24/07/11 15:58:39 WARN TaskSetManager: Stage 0 contains a task of very large size (15067 KiB). The maximum recommended task size is 1000 KiB.\n",
      "                                                                                \r"
     ]
    },
    {
     "name": "stdout",
     "output_type": "stream",
     "text": [
      "----------------------------------------------------------------------------------------------------\n",
      "Epoch 172/200, Loss: 0.0448, AUC-ROC: 0.9167, Time: 0:48\n"
     ]
    },
    {
     "name": "stderr",
     "output_type": "stream",
     "text": [
      "24/07/11 15:59:25 WARN TaskSetManager: Stage 0 contains a task of very large size (15067 KiB). The maximum recommended task size is 1000 KiB.\n",
      "                                                                                \r"
     ]
    },
    {
     "name": "stdout",
     "output_type": "stream",
     "text": [
      "----------------------------------------------------------------------------------------------------\n",
      "Epoch 173/200, Loss: 0.0434, AUC-ROC: 0.9256, Time: 0:46\n"
     ]
    },
    {
     "name": "stderr",
     "output_type": "stream",
     "text": [
      "24/07/11 16:00:14 WARN TaskSetManager: Stage 0 contains a task of very large size (15067 KiB). The maximum recommended task size is 1000 KiB.\n",
      "                                                                                \r"
     ]
    },
    {
     "name": "stdout",
     "output_type": "stream",
     "text": [
      "----------------------------------------------------------------------------------------------------\n",
      "Epoch 174/200, Loss: 0.0638, AUC-ROC: 0.8993, Time: 0:51\n"
     ]
    },
    {
     "name": "stderr",
     "output_type": "stream",
     "text": [
      "24/07/11 16:01:06 WARN TaskSetManager: Stage 0 contains a task of very large size (15067 KiB). The maximum recommended task size is 1000 KiB.\n",
      "                                                                                \r"
     ]
    },
    {
     "name": "stdout",
     "output_type": "stream",
     "text": [
      "----------------------------------------------------------------------------------------------------\n",
      "Epoch 175/200, Loss: 0.0474, AUC-ROC: 0.9306, Time: 0:50\n"
     ]
    },
    {
     "name": "stderr",
     "output_type": "stream",
     "text": [
      "24/07/11 16:01:56 WARN TaskSetManager: Stage 0 contains a task of very large size (15067 KiB). The maximum recommended task size is 1000 KiB.\n",
      "                                                                                \r"
     ]
    },
    {
     "name": "stdout",
     "output_type": "stream",
     "text": [
      "----------------------------------------------------------------------------------------------------\n",
      "Epoch 176/200, Loss: 0.0417, AUC-ROC: 0.8821, Time: 0:51\n"
     ]
    },
    {
     "name": "stderr",
     "output_type": "stream",
     "text": [
      "24/07/11 16:02:47 WARN TaskSetManager: Stage 0 contains a task of very large size (15067 KiB). The maximum recommended task size is 1000 KiB.\n",
      "                                                                                \r"
     ]
    },
    {
     "name": "stdout",
     "output_type": "stream",
     "text": [
      "----------------------------------------------------------------------------------------------------\n",
      "Epoch 177/200, Loss: 0.0445, AUC-ROC: 0.8755, Time: 0:52\n"
     ]
    },
    {
     "name": "stderr",
     "output_type": "stream",
     "text": [
      "24/07/11 16:03:40 WARN TaskSetManager: Stage 0 contains a task of very large size (15067 KiB). The maximum recommended task size is 1000 KiB.\n",
      "                                                                                \r"
     ]
    },
    {
     "name": "stdout",
     "output_type": "stream",
     "text": [
      "----------------------------------------------------------------------------------------------------\n",
      "Epoch 178/200, Loss: 0.0457, AUC-ROC: 0.8862, Time: 0:54\n"
     ]
    },
    {
     "name": "stderr",
     "output_type": "stream",
     "text": [
      "24/07/11 16:04:32 WARN TaskSetManager: Stage 0 contains a task of very large size (15067 KiB). The maximum recommended task size is 1000 KiB.\n",
      "                                                                                \r"
     ]
    },
    {
     "name": "stdout",
     "output_type": "stream",
     "text": [
      "----------------------------------------------------------------------------------------------------\n",
      "Epoch 179/200, Loss: 0.0402, AUC-ROC: 0.8827, Time: 0:46\n"
     ]
    },
    {
     "name": "stderr",
     "output_type": "stream",
     "text": [
      "24/07/11 16:05:20 WARN TaskSetManager: Stage 0 contains a task of very large size (15067 KiB). The maximum recommended task size is 1000 KiB.\n",
      "                                                                                \r"
     ]
    },
    {
     "name": "stdout",
     "output_type": "stream",
     "text": [
      "----------------------------------------------------------------------------------------------------\n",
      "Epoch 180/200, Loss: 0.0394, AUC-ROC: 0.8905, Time: 0:47\n"
     ]
    },
    {
     "name": "stderr",
     "output_type": "stream",
     "text": [
      "24/07/11 16:06:07 WARN TaskSetManager: Stage 0 contains a task of very large size (15067 KiB). The maximum recommended task size is 1000 KiB.\n",
      "                                                                                \r"
     ]
    },
    {
     "name": "stdout",
     "output_type": "stream",
     "text": [
      "----------------------------------------------------------------------------------------------------\n",
      "Epoch 181/200, Loss: 0.0393, AUC-ROC: 0.8704, Time: 0:59\n"
     ]
    },
    {
     "name": "stderr",
     "output_type": "stream",
     "text": [
      "24/07/11 16:07:05 WARN TaskSetManager: Stage 0 contains a task of very large size (15067 KiB). The maximum recommended task size is 1000 KiB.\n",
      "                                                                                \r"
     ]
    },
    {
     "name": "stdout",
     "output_type": "stream",
     "text": [
      "----------------------------------------------------------------------------------------------------\n",
      "Epoch 182/200, Loss: 0.0382, AUC-ROC: 0.9100, Time: 1:0\n"
     ]
    },
    {
     "name": "stderr",
     "output_type": "stream",
     "text": [
      "24/07/11 16:08:04 WARN TaskSetManager: Stage 0 contains a task of very large size (15067 KiB). The maximum recommended task size is 1000 KiB.\n",
      "                                                                                \r"
     ]
    },
    {
     "name": "stdout",
     "output_type": "stream",
     "text": [
      "----------------------------------------------------------------------------------------------------\n",
      "Epoch 183/200, Loss: 0.0385, AUC-ROC: 0.9070, Time: 0:45\n"
     ]
    },
    {
     "name": "stderr",
     "output_type": "stream",
     "text": [
      "24/07/11 16:08:49 WARN TaskSetManager: Stage 0 contains a task of very large size (15067 KiB). The maximum recommended task size is 1000 KiB.\n",
      "                                                                                \r"
     ]
    },
    {
     "name": "stdout",
     "output_type": "stream",
     "text": [
      "----------------------------------------------------------------------------------------------------\n",
      "Epoch 184/200, Loss: 0.0345, AUC-ROC: 0.9145, Time: 0:44\n"
     ]
    },
    {
     "name": "stderr",
     "output_type": "stream",
     "text": [
      "24/07/11 16:09:40 WARN TaskSetManager: Stage 0 contains a task of very large size (15067 KiB). The maximum recommended task size is 1000 KiB.\n",
      "                                                                                \r"
     ]
    },
    {
     "name": "stdout",
     "output_type": "stream",
     "text": [
      "----------------------------------------------------------------------------------------------------\n",
      "Epoch 185/200, Loss: 0.0342, AUC-ROC: 0.9033, Time: 0:50\n"
     ]
    },
    {
     "name": "stderr",
     "output_type": "stream",
     "text": [
      "24/07/11 16:10:27 WARN TaskSetManager: Stage 0 contains a task of very large size (15067 KiB). The maximum recommended task size is 1000 KiB.\n",
      "                                                                                \r"
     ]
    },
    {
     "name": "stdout",
     "output_type": "stream",
     "text": [
      "----------------------------------------------------------------------------------------------------\n",
      "Epoch 186/200, Loss: 0.0328, AUC-ROC: 0.8995, Time: 0:46\n"
     ]
    },
    {
     "name": "stderr",
     "output_type": "stream",
     "text": [
      "24/07/11 16:11:13 WARN TaskSetManager: Stage 0 contains a task of very large size (15067 KiB). The maximum recommended task size is 1000 KiB.\n",
      "                                                                                \r"
     ]
    },
    {
     "name": "stdout",
     "output_type": "stream",
     "text": [
      "----------------------------------------------------------------------------------------------------\n",
      "Epoch 187/200, Loss: 0.0331, AUC-ROC: 0.9278, Time: 0:46\n"
     ]
    },
    {
     "name": "stderr",
     "output_type": "stream",
     "text": [
      "24/07/11 16:11:57 WARN TaskSetManager: Stage 0 contains a task of very large size (15067 KiB). The maximum recommended task size is 1000 KiB.\n",
      "                                                                                \r"
     ]
    },
    {
     "name": "stdout",
     "output_type": "stream",
     "text": [
      "----------------------------------------------------------------------------------------------------\n",
      "Epoch 188/200, Loss: 0.0318, AUC-ROC: 0.9176, Time: 0:43\n"
     ]
    },
    {
     "name": "stderr",
     "output_type": "stream",
     "text": [
      "24/07/11 16:12:42 WARN TaskSetManager: Stage 0 contains a task of very large size (15067 KiB). The maximum recommended task size is 1000 KiB.\n",
      "                                                                                \r"
     ]
    },
    {
     "name": "stdout",
     "output_type": "stream",
     "text": [
      "----------------------------------------------------------------------------------------------------\n",
      "Epoch 189/200, Loss: 0.0313, AUC-ROC: 0.9149, Time: 0:46\n"
     ]
    },
    {
     "name": "stderr",
     "output_type": "stream",
     "text": [
      "24/07/11 16:13:29 WARN TaskSetManager: Stage 0 contains a task of very large size (15067 KiB). The maximum recommended task size is 1000 KiB.\n",
      "                                                                                \r"
     ]
    },
    {
     "name": "stdout",
     "output_type": "stream",
     "text": [
      "----------------------------------------------------------------------------------------------------\n",
      "Epoch 190/200, Loss: 0.0378, AUC-ROC: 0.8674, Time: 0:45\n"
     ]
    },
    {
     "name": "stderr",
     "output_type": "stream",
     "text": [
      "24/07/11 16:14:15 WARN TaskSetManager: Stage 0 contains a task of very large size (15067 KiB). The maximum recommended task size is 1000 KiB.\n",
      "                                                                                \r"
     ]
    },
    {
     "name": "stdout",
     "output_type": "stream",
     "text": [
      "----------------------------------------------------------------------------------------------------\n",
      "Epoch 191/200, Loss: 0.0326, AUC-ROC: 0.9061, Time: 0:46\n"
     ]
    },
    {
     "name": "stderr",
     "output_type": "stream",
     "text": [
      "24/07/11 16:14:58 WARN TaskSetManager: Stage 0 contains a task of very large size (15067 KiB). The maximum recommended task size is 1000 KiB.\n",
      "                                                                                \r"
     ]
    },
    {
     "name": "stdout",
     "output_type": "stream",
     "text": [
      "----------------------------------------------------------------------------------------------------\n",
      "Epoch 192/200, Loss: 0.0295, AUC-ROC: 0.9151, Time: 0:43\n"
     ]
    },
    {
     "name": "stderr",
     "output_type": "stream",
     "text": [
      "24/07/11 16:15:42 WARN TaskSetManager: Stage 0 contains a task of very large size (15067 KiB). The maximum recommended task size is 1000 KiB.\n",
      "                                                                                \r"
     ]
    },
    {
     "name": "stdout",
     "output_type": "stream",
     "text": [
      "----------------------------------------------------------------------------------------------------\n",
      "Epoch 193/200, Loss: 0.0275, AUC-ROC: 0.9165, Time: 0:44\n"
     ]
    },
    {
     "name": "stderr",
     "output_type": "stream",
     "text": [
      "24/07/11 16:16:28 WARN TaskSetManager: Stage 0 contains a task of very large size (15067 KiB). The maximum recommended task size is 1000 KiB.\n",
      "                                                                                \r"
     ]
    },
    {
     "name": "stdout",
     "output_type": "stream",
     "text": [
      "----------------------------------------------------------------------------------------------------\n",
      "Epoch 194/200, Loss: 0.0276, AUC-ROC: 0.9015, Time: 0:44\n"
     ]
    },
    {
     "name": "stderr",
     "output_type": "stream",
     "text": [
      "24/07/11 16:17:11 WARN TaskSetManager: Stage 0 contains a task of very large size (15067 KiB). The maximum recommended task size is 1000 KiB.\n",
      "                                                                                \r"
     ]
    },
    {
     "name": "stdout",
     "output_type": "stream",
     "text": [
      "----------------------------------------------------------------------------------------------------\n",
      "Epoch 195/200, Loss: 0.0271, AUC-ROC: 0.9083, Time: 0:43\n"
     ]
    },
    {
     "name": "stderr",
     "output_type": "stream",
     "text": [
      "24/07/11 16:17:55 WARN TaskSetManager: Stage 0 contains a task of very large size (15067 KiB). The maximum recommended task size is 1000 KiB.\n",
      "                                                                                \r"
     ]
    },
    {
     "name": "stdout",
     "output_type": "stream",
     "text": [
      "----------------------------------------------------------------------------------------------------\n",
      "Epoch 196/200, Loss: 0.0429, AUC-ROC: 0.9110, Time: 0:46\n"
     ]
    },
    {
     "name": "stderr",
     "output_type": "stream",
     "text": [
      "24/07/11 16:18:44 WARN TaskSetManager: Stage 0 contains a task of very large size (15067 KiB). The maximum recommended task size is 1000 KiB.\n",
      "                                                                                \r"
     ]
    },
    {
     "name": "stdout",
     "output_type": "stream",
     "text": [
      "----------------------------------------------------------------------------------------------------\n",
      "Epoch 197/200, Loss: 0.0373, AUC-ROC: 0.9128, Time: 0:49\n"
     ]
    },
    {
     "name": "stderr",
     "output_type": "stream",
     "text": [
      "24/07/11 16:19:29 WARN TaskSetManager: Stage 0 contains a task of very large size (15067 KiB). The maximum recommended task size is 1000 KiB.\n",
      "                                                                                \r"
     ]
    },
    {
     "name": "stdout",
     "output_type": "stream",
     "text": [
      "----------------------------------------------------------------------------------------------------\n",
      "Epoch 198/200, Loss: 0.0260, AUC-ROC: 0.8810, Time: 0:42\n"
     ]
    },
    {
     "name": "stderr",
     "output_type": "stream",
     "text": [
      "24/07/11 16:20:13 WARN TaskSetManager: Stage 0 contains a task of very large size (15067 KiB). The maximum recommended task size is 1000 KiB.\n",
      "                                                                                \r"
     ]
    },
    {
     "name": "stdout",
     "output_type": "stream",
     "text": [
      "----------------------------------------------------------------------------------------------------\n",
      "Epoch 199/200, Loss: 0.0261, AUC-ROC: 0.9100, Time: 0:43\n"
     ]
    },
    {
     "name": "stderr",
     "output_type": "stream",
     "text": [
      "24/07/11 16:20:57 WARN TaskSetManager: Stage 0 contains a task of very large size (15067 KiB). The maximum recommended task size is 1000 KiB.\n",
      "                                                                                \r"
     ]
    },
    {
     "name": "stdout",
     "output_type": "stream",
     "text": [
      "----------------------------------------------------------------------------------------------------\n",
      "Epoch 200/200, Loss: 0.0265, AUC-ROC: 0.9097, Time: 0:44\n",
      "====================================================================================================\n",
      "Best model saved with AUC-ROC: 0.9407\n",
      "Total training time: 2:26:10\n",
      "====================================================================================================\n"
     ]
    }
   ],
   "source": [
    "# Initialize TensorBoard\n",
    "writer = SummaryWriter(LOG_DIR)\n",
    "\n",
    "# Training loop with best model saving\n",
    "best_auc = 0.0\n",
    "start_time = time.time()\n",
    "\n",
    "print(DOUBLE_LINE)\n",
    "print(\"TRAINING AND VALIDATION PROCESS STARTED\")\n",
    "print(DOUBLE_LINE)\n",
    "\n",
    "for epoch in range(NUM_EPOCHS):\n",
    "    epoch_start_time = time.time()\n",
    "\n",
    "    spark_training = SparkSession.builder.appName(\"training\").getOrCreate()\n",
    "\n",
    "    train_loss = train(model, train_loader, criterion, optimizer, DEVICE)\n",
    "    val_auc = evaluate(model, val_loader, DEVICE, spark_training)\n",
    "    \n",
    "    writer.add_scalar(\"Loss/train\", train_loss, epoch)\n",
    "    writer.add_scalar(\"AUC-ROC/val\", val_auc, epoch)\n",
    "    \n",
    "    if val_auc > best_auc:\n",
    "        best_auc = val_auc\n",
    "        torch.save(model.state_dict(), BEST_MODEL_PATH)\n",
    "\n",
    "    spark_training.stop()\n",
    "    \n",
    "    epoch_end_time = time.time()\n",
    "    epoch_duration = epoch_end_time - epoch_start_time\n",
    "    epoch_minutes = int(epoch_duration // 60)\n",
    "    epoch_seconds = int(epoch_duration % 60)\n",
    "    \n",
    "    print(LINE)\n",
    "    print(f\"Epoch {epoch + 1}/{NUM_EPOCHS}, Loss: {train_loss:.4f}, AUC-ROC: {val_auc:.4f}, Time: {epoch_minutes}:{epoch_seconds}\")\n",
    "\n",
    "total_duration = time.time() - start_time\n",
    "total_hours = int(total_duration // 3600)\n",
    "total_minutes = int((total_duration % 3600) // 60)\n",
    "total_seconds = round(total_duration % 60)\n",
    "\n",
    "print(DOUBLE_LINE)\n",
    "print(f\"Best model saved with AUC-ROC: {best_auc:.4f}\")\n",
    "print(f\"Total training time: {total_hours}:{total_minutes}:{total_seconds}\")\n",
    "print(DOUBLE_LINE)\n",
    "\n",
    "writer.add_text(\"Training Summary\", f\"Total training time: {total_hours}:{total_minutes}:{total_seconds}\")\n",
    "writer.add_scalar(\"Best AUC-ROC\", best_auc)\n",
    "writer.close()"
   ]
  },
  {
   "cell_type": "markdown",
   "metadata": {},
   "source": [
    "### Best model loading"
   ]
  },
  {
   "cell_type": "code",
   "execution_count": 11,
   "metadata": {},
   "outputs": [
    {
     "data": {
      "text/plain": [
       "<All keys matched successfully>"
      ]
     },
     "execution_count": 11,
     "metadata": {},
     "output_type": "execute_result"
    }
   ],
   "source": [
    "model.load_state_dict(torch.load(BEST_MODEL_PATH))"
   ]
  },
  {
   "cell_type": "markdown",
   "metadata": {},
   "source": [
    "### Evaluation of training dataset"
   ]
  },
  {
   "cell_type": "code",
   "execution_count": 12,
   "metadata": {},
   "outputs": [
    {
     "name": "stdout",
     "output_type": "stream",
     "text": [
      "====================================================================================================\n",
      "Evaluation of training dataset\n",
      "====================================================================================================\n"
     ]
    },
    {
     "name": "stderr",
     "output_type": "stream",
     "text": [
      "Saving predictions: 100%|██████████| 148/148 [00:02<00:00, 67.12it/s]"
     ]
    },
    {
     "name": "stdout",
     "output_type": "stream",
     "text": [
      "====================================================================================================\n",
      "Predicted masks saved to /home/igor/MEGAsync/Faks/Geoprostorni sistemi/Projekat/raw results\n",
      "====================================================================================================\n"
     ]
    },
    {
     "name": "stderr",
     "output_type": "stream",
     "text": [
      "\n"
     ]
    }
   ],
   "source": [
    "# Save predictions on the training dataset\n",
    "print(DOUBLE_LINE) \n",
    "print(\"Evaluation of training dataset\")\n",
    "print(DOUBLE_LINE) \n",
    "save_predictions(model, val_loader, DEVICE, RESULT_IMAGES_DIR)\n",
    "\n",
    "print(DOUBLE_LINE)\n",
    "print(f\"Predicted masks saved to {RESULT_IMAGES_DIR}\")\n",
    "print(DOUBLE_LINE)"
   ]
  },
  {
   "cell_type": "markdown",
   "metadata": {},
   "source": [
    "### Post-processing of result images"
   ]
  },
  {
   "cell_type": "code",
   "execution_count": 13,
   "metadata": {},
   "outputs": [
    {
     "name": "stdout",
     "output_type": "stream",
     "text": [
      "====================================================================================================\n",
      "Post-processing of result images\n",
      "====================================================================================================\n"
     ]
    },
    {
     "name": "stderr",
     "output_type": "stream",
     "text": [
      "Post-processing images: 100%|██████████| 148/148 [01:40<00:00,  1.48it/s]"
     ]
    },
    {
     "name": "stdout",
     "output_type": "stream",
     "text": [
      "====================================================================================================\n",
      "Post-processed images from /home/igor/MEGAsync/Faks/Geoprostorni sistemi/Projekat/raw results saved to /home/igor/MEGAsync/Faks/Geoprostorni sistemi/Projekat/post-processed results\n",
      "====================================================================================================\n"
     ]
    },
    {
     "name": "stderr",
     "output_type": "stream",
     "text": [
      "\n"
     ]
    }
   ],
   "source": [
    "print(DOUBLE_LINE)\n",
    "print(\"Post-processing of result images\")\n",
    "print(DOUBLE_LINE)\n",
    "\n",
    "image_files = os.listdir(RESULT_IMAGES_DIR)\n",
    "for image_name in tqdm(image_files, desc=\"Post-processing images\"):\n",
    "    image_path = os.path.join(RESULT_IMAGES_DIR, image_name)\n",
    "    image = cv2.imread(image_path, cv2.IMREAD_GRAYSCALE)\n",
    "    \n",
    "    # Conditional median filtering\n",
    "    image = conditional_median_filter(image)\n",
    "\n",
    "    # Image erosion\n",
    "    kernel = np.ones((3, 3), np.uint8)\n",
    "    image = cv2.erode(image, kernel, iterations=1)\n",
    "\n",
    "    # Image dilation\n",
    "    image = cv2.dilate(image, kernel, iterations=1)\n",
    "\n",
    "    # Invert pixel values\n",
    "    image = 255 - image\n",
    "\n",
    "    # Save processed image\n",
    "    post_processed_path = os.path.join(POST_PROCESS_DIR, image_name)\n",
    "    cv2.imwrite(post_processed_path, image)\n",
    "\n",
    "print(DOUBLE_LINE)\n",
    "print(f\"Post-processed images from {RESULT_IMAGES_DIR} saved to {POST_PROCESS_DIR}\")\n",
    "print(DOUBLE_LINE)"
   ]
  },
  {
   "cell_type": "markdown",
   "metadata": {},
   "source": [
    "### Example image evaluation results showing"
   ]
  },
  {
   "cell_type": "code",
   "execution_count": 14,
   "metadata": {},
   "outputs": [
    {
     "data": {
      "image/png": "[encoded data removed]",
      "text/plain": [
       "<Figure size 1000x1000 with 4 Axes>"
      ]
     },
     "metadata": {},
     "output_type": "display_data"
    }
   ],
   "source": [
    "example_image_name = image_files[0] \n",
    "\n",
    "# Paths for images\n",
    "rgb_image_path = os.path.join(RGB_DIR, example_image_name)\n",
    "mask_image_path = os.path.join(MASK_DIR, example_image_name)\n",
    "raw_result_image_path = os.path.join(RESULT_IMAGES_DIR, example_image_name)\n",
    "post_processed_image_path = os.path.join(POST_PROCESS_DIR, example_image_name)\n",
    "\n",
    "# Loading images\n",
    "rgb_image = Image.open(rgb_image_path).convert(\"RGB\")\n",
    "mask_image = Image.open(mask_image_path).convert(\"L\")\n",
    "raw_result_image = Image.open(raw_result_image_path).convert(\"L\")\n",
    "post_processed_image = Image.open(post_processed_image_path).convert(\"L\")\n",
    "\n",
    "# Plotting\n",
    "fig, axes = plt.subplots(2, 2, figsize=(10, 10))\n",
    "\n",
    "axes[0, 0].imshow(rgb_image)\n",
    "axes[0, 0].set_title(\"RGB Image\")\n",
    "axes[0, 0].axis(\"off\")\n",
    "\n",
    "axes[0, 1].imshow(mask_image, cmap=\"gray\")\n",
    "axes[0, 1].set_title(\"Mask\")\n",
    "axes[0, 1].axis(\"off\")\n",
    "\n",
    "axes[1, 0].imshow(raw_result_image, cmap=\"gray\")\n",
    "axes[1, 0].set_title(\"Raw Result Image\")\n",
    "axes[1, 0].axis(\"off\")\n",
    "\n",
    "axes[1, 1].imshow(post_processed_image, cmap=\"gray\")\n",
    "axes[1, 1].set_title(\"Post-Processed Image\")\n",
    "axes[1, 1].axis(\"off\")\n",
    "\n",
    "fig.suptitle(\"Image Visualization\", fontsize=16)\n",
    "\n",
    "plt.tight_layout()\n",
    "plt.show()"
   ]
  },
  {
   "cell_type": "markdown",
   "metadata": {},
   "source": [
    "### Roofs and solar panels estimation"
   ]
  },
  {
   "cell_type": "code",
   "execution_count": 17,
   "metadata": {},
   "outputs": [
    {
     "name": "stdout",
     "output_type": "stream",
     "text": [
      "====================================================================================================\n",
      "Roofs and solar panels estimation for results\n",
      "====================================================================================================\n"
     ]
    },
    {
     "name": "stderr",
     "output_type": "stream",
     "text": [
      "Processing images: 100%|██████████| 148/148 [00:00<00:00, 269.85it/s]\n",
      "[Stage 0:>                                                          (0 + 1) / 1]\r"
     ]
    },
    {
     "name": "stdout",
     "output_type": "stream",
     "text": [
      "====================================================================================================\n",
      "Results saved to results.csv\n",
      "====================================================================================================\n"
     ]
    },
    {
     "name": "stderr",
     "output_type": "stream",
     "text": [
      "                                                                                \r"
     ]
    }
   ],
   "source": [
    "spark_post_processing = SparkSession.builder.appName(\"images_post_processing\").getOrCreate()\n",
    "\n",
    "# Define schema for the results DataFrame\n",
    "schema = StructType([\n",
    "    StructField(\"Image name\", StringType(), True),\n",
    "    StructField(\"IoU - raw result [%]\", DoubleType(), True),\n",
    "    StructField(\"IoU - post-processed result [%]\", DoubleType(), True),\n",
    "    StructField(\"Objects (> 1% total area)\", DoubleType(), True),\n",
    "    StructField(\"Roof area [m^2] - mapped\", DoubleType(), True),\n",
    "    StructField(\"Roof area [m^2] - raw result\", DoubleType(), True),\n",
    "    StructField(\"Roof area [m^2] - post-processed result\", DoubleType(), True),\n",
    "    StructField(\"Solar panels estimation - mapped\", DoubleType(), True),\n",
    "    StructField(\"Solar panels estimation - raw result\", DoubleType(), True),\n",
    "    StructField(\"Solar panels estimation - post-processed result\", DoubleType(), True)\n",
    "])\n",
    "\n",
    "print(DOUBLE_LINE)\n",
    "print(\"Roofs and solar panels estimation for results\")\n",
    "print(DOUBLE_LINE)\n",
    "\n",
    "# Process each image and collect results\n",
    "results = []\n",
    "\n",
    "for image_name in tqdm(image_files, desc=\"Processing images\"):\n",
    "    # Paths for images\n",
    "    mask_image_path = os.path.join(MASK_DIR, image_name)\n",
    "    raw_result_image_path = os.path.join(RESULT_IMAGES_DIR, image_name)\n",
    "    post_processed_image_path = os.path.join(POST_PROCESS_DIR, image_name)\n",
    "\n",
    "    # Calculate IoU for raw and post-processed results\n",
    "    iou_raw = float(calculate_iou(mask_image_path, raw_result_image_path))\n",
    "    iou_post_processed = float(calculate_iou(mask_image_path, post_processed_image_path))\n",
    "\n",
    "    # Calculate for mask\n",
    "    large_objects_count = float(count_large_objects(mask_image_path, percentage_threshold=1))\n",
    "    mask_areas = find_largest_objects_areas(mask_image_path, N=int(large_objects_count), square_pixel_area=SQUARE_PIXEL_AREA)\n",
    "    mask_roof_areas = [float(roof_area_calculation(area)) for area in mask_areas]\n",
    "    mask_solar_panels = float(sum([solar_panels_estimation(roof_area, SOLAR_PANEL_AREA) for roof_area in mask_roof_areas]))\n",
    "    \n",
    "    # Calculate for raw result image using N from mask\n",
    "    raw_areas = find_largest_objects_areas(raw_result_image_path, N=int(large_objects_count), square_pixel_area=SQUARE_PIXEL_AREA)\n",
    "    raw_roof_areas = [float(roof_area_calculation(area)) for area in raw_areas]\n",
    "    raw_solar_panels = float(sum([solar_panels_estimation(roof_area, SOLAR_PANEL_AREA) for roof_area in raw_roof_areas]))\n",
    "    \n",
    "    # Calculate for post-processed result image using N from mask\n",
    "    post_processed_areas = find_largest_objects_areas(post_processed_image_path, N=int(large_objects_count), square_pixel_area=SQUARE_PIXEL_AREA)\n",
    "    post_processed_roof_areas = [float(roof_area_calculation(area)) for area in post_processed_areas]\n",
    "    post_processed_solar_panels = float(sum([solar_panels_estimation(roof_area, SOLAR_PANEL_AREA) for roof_area in post_processed_roof_areas]))\n",
    "    \n",
    "    # Append results to list\n",
    "    results.append((image_name, iou_raw, iou_post_processed, large_objects_count,\n",
    "                    float(sum(mask_roof_areas)), float(sum(raw_roof_areas)), float(sum(post_processed_roof_areas)),\n",
    "                    mask_solar_panels, raw_solar_panels, post_processed_solar_panels))\n",
    "\n",
    "# Convert list of results to Spark DataFrame\n",
    "results_df = spark_post_processing.createDataFrame(results, schema)\n",
    "\n",
    "# Save DataFrame to a temporary directory\n",
    "results_df.coalesce(1).write.csv(\"/tmp/results_temp\", header=True, mode=\"overwrite\")\n",
    "\n",
    "# Find the part file and move it to the final location\n",
    "for file_name in os.listdir(\"/tmp/results_temp\"):\n",
    "    if file_name.startswith(\"part-\"):\n",
    "        shutil.move(os.path.join(\"/tmp/results_temp\", file_name), RESULTS_DATAFRAME_PATH)\n",
    "        break\n",
    "\n",
    "# Remove the temporary directory\n",
    "shutil.rmtree(\"/tmp/results_temp\")\n",
    "\n",
    "print(DOUBLE_LINE)\n",
    "print(f\"Results saved to {RESULTS_DATAFRAME_PATH}\")\n",
    "print(DOUBLE_LINE)"
   ]
  },
  {
   "cell_type": "markdown",
   "metadata": {},
   "source": [
    "### Results view"
   ]
  },
  {
   "cell_type": "code",
   "execution_count": 18,
   "metadata": {},
   "outputs": [
    {
     "name": "stdout",
     "output_type": "stream",
     "text": [
      "+---------------+--------------------+-------------------------------+-------------------------+------------------------+----------------------------+---------------------------------------+--------------------------------+------------------------------------+-----------------------------------------------+\n",
      "|     Image name|IoU - raw result [%]|IoU - post-processed result [%]|Objects (> 1% total area)|Roof area [m^2] - mapped|Roof area [m^2] - raw result|Roof area [m^2] - post-processed result|Solar panels estimation - mapped|Solar panels estimation - raw result|Solar panels estimation - post-processed result|\n",
      "+---------------+--------------------+-------------------------------+-------------------------+------------------------+----------------------------+---------------------------------------+--------------------------------+------------------------------------+-----------------------------------------------+\n",
      "|patch_41_83.png|               91.87|                          91.87|                      2.0|                 4237.18|          4106.6900000000005|                                4113.32|                          2354.0|                              2281.0|                                         2285.0|\n",
      "|patch_65_10.png|               76.06|                          76.08|                      0.0|                     0.0|                         0.0|                                    0.0|                             0.0|                                 0.0|                                            0.0|\n",
      "| patch_6_35.png|               57.51|                           57.3|                      1.0|                  885.08|                      838.89|                                 839.33|                           492.0|                               466.0|                                          466.0|\n",
      "|patch_32_93.png|               89.53|                          89.55|                      6.0|                 3841.13|                     3879.23|                     3885.0000000000005|                          2134.0|                              2155.0|                                         2158.0|\n",
      "|patch_17_58.png|               75.15|                          75.85|                      1.0|                  645.92|                      652.98|                                 656.45|                           359.0|                               363.0|                                          365.0|\n",
      "| patch_6_49.png|               57.48|                          57.72|                      2.0|                  929.54|                     1153.54|                                1162.78|                           516.0|                               641.0|                                          645.0|\n",
      "|patch_69_21.png|               88.45|                          88.41|                      1.0|                  906.88|                      916.25|                                 916.54|                           504.0|                               509.0|                                          509.0|\n",
      "|patch_15_54.png|                77.9|                          78.04|                      2.0|                 1346.38|                     1401.23|                                1406.58|                           748.0|                               778.0|                                          781.0|\n",
      "|patch_21_97.png|               57.17|                          57.24|                      1.0|                   298.2|                      227.61|                                 227.91|                           166.0|                               126.0|                                          127.0|\n",
      "|patch_62_90.png|               55.27|                          55.46|                      1.0|                  681.85|                      591.65|                                 593.38|                           379.0|                               329.0|                                          330.0|\n",
      "+---------------+--------------------+-------------------------------+-------------------------+------------------------+----------------------------+---------------------------------------+--------------------------------+------------------------------------+-----------------------------------------------+\n",
      "only showing top 10 rows\n",
      "\n"
     ]
    }
   ],
   "source": [
    "results_df.show(10)"
   ]
  },
  {
   "cell_type": "markdown",
   "metadata": {},
   "source": [
    "### Results statistics"
   ]
  },
  {
   "cell_type": "code",
   "execution_count": 19,
   "metadata": {},
   "outputs": [
    {
     "name": "stderr",
     "output_type": "stream",
     "text": [
      "24/07/11 16:26:17 WARN package: Truncated the string representation of a plan since it was too large. This behavior can be adjusted by setting 'spark.sql.debug.maxToStringFields'.\n"
     ]
    },
    {
     "name": "stdout",
     "output_type": "stream",
     "text": [
      "+-------+--------------+--------------------+-------------------------------+-------------------------+------------------------+----------------------------+---------------------------------------+--------------------------------+------------------------------------+-----------------------------------------------+\n",
      "|summary|    Image name|IoU - raw result [%]|IoU - post-processed result [%]|Objects (> 1% total area)|Roof area [m^2] - mapped|Roof area [m^2] - raw result|Roof area [m^2] - post-processed result|Solar panels estimation - mapped|Solar panels estimation - raw result|Solar panels estimation - post-processed result|\n",
      "+-------+--------------+--------------------+-------------------------------+-------------------------+------------------------+----------------------------+---------------------------------------+--------------------------------+------------------------------------+-----------------------------------------------+\n",
      "|  count|           148|                 148|                            148|                      148|                     148|                         148|                                    148|                             148|                                 148|                                            148|\n",
      "|   mean|          null|    66.7802027027027|              66.76216216216216|                     1.75|       978.7649324324324|          1001.0609459459458|                      1006.764864864865|               543.7635135135135|                   556.1148648648649|                              559.2837837837837|\n",
      "| stddev|          null|  24.395512787730432|             24.333377137427927|        1.577369721433513|       979.2785802515294|          1034.9215603227462|                     1042.1682159338302|               543.9833225920805|                   574.9028373826258|                               578.971772607907|\n",
      "|    min| patch_0_1.png|                 0.0|                            0.0|                      0.0|                     0.0|                         0.0|                                    0.0|                             0.0|                                 0.0|                                            0.0|\n",
      "|    max|patch_9_49.png|               94.48|                          94.44|                      9.0|                  4405.9|          4784.0700000000015|                     4860.2699999999995|                          2446.0|                              2658.0|                                         2701.0|\n",
      "+-------+--------------+--------------------+-------------------------------+-------------------------+------------------------+----------------------------+---------------------------------------+--------------------------------+------------------------------------+-----------------------------------------------+\n",
      "\n"
     ]
    }
   ],
   "source": [
    "results_df.describe().show()\n",
    "\n",
    "# Stop the Spark session\n",
    "spark_post_processing.stop()"
   ]
  }
 ],
 "metadata": {
  "kernelspec": {
   "display_name": "geo",
   "language": "python",
   "name": "python3"
  },
  "language_info": {
   "codemirror_mode": {
    "name": "ipython",
    "version": 3
   },
   "file_extension": ".py",
   "mimetype": "text/x-python",
   "name": "python",
   "nbconvert_exporter": "python",
   "pygments_lexer": "ipython3",
   "version": "3.8.19"
  }
 },
 "nbformat": 4,
 "nbformat_minor": 2
}
